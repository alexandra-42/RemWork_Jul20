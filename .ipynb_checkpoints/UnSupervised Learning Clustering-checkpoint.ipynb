{
 "cells": [
  {
   "cell_type": "code",
   "execution_count": 1,
   "metadata": {},
   "outputs": [],
   "source": [
    "import numpy as np\n",
    "import matplotlib.pyplot as plt\n",
    "import pandas as pd"
   ]
  },
  {
   "cell_type": "code",
   "execution_count": 3,
   "metadata": {},
   "outputs": [],
   "source": [
    "covid_df = pd.read_csv(\"BDM_p2\\covid19_dataset_extensive.csv\",parse_dates=[\"Last_Update\"])"
   ]
  },
  {
   "cell_type": "code",
   "execution_count": 4,
   "metadata": {},
   "outputs": [
    {
     "data": {
      "text/html": [
       "<div>\n",
       "<style scoped>\n",
       "    .dataframe tbody tr th:only-of-type {\n",
       "        vertical-align: middle;\n",
       "    }\n",
       "\n",
       "    .dataframe tbody tr th {\n",
       "        vertical-align: top;\n",
       "    }\n",
       "\n",
       "    .dataframe thead th {\n",
       "        text-align: right;\n",
       "    }\n",
       "</style>\n",
       "<table border=\"1\" class=\"dataframe\">\n",
       "  <thead>\n",
       "    <tr style=\"text-align: right;\">\n",
       "      <th></th>\n",
       "      <th>FIPS</th>\n",
       "      <th>Admin2</th>\n",
       "      <th>Province_State</th>\n",
       "      <th>Country_Region</th>\n",
       "      <th>Last_Update</th>\n",
       "      <th>Lat</th>\n",
       "      <th>Long_</th>\n",
       "      <th>Confirmed</th>\n",
       "      <th>Deaths</th>\n",
       "      <th>Recovered</th>\n",
       "      <th>Active</th>\n",
       "      <th>Combined_Key</th>\n",
       "      <th>Incidence_Rate</th>\n",
       "      <th>Case-Fatality_Ratio</th>\n",
       "    </tr>\n",
       "  </thead>\n",
       "  <tbody>\n",
       "    <tr>\n",
       "      <th>0</th>\n",
       "      <td>45001.0</td>\n",
       "      <td>Abbeville</td>\n",
       "      <td>South Carolina</td>\n",
       "      <td>US</td>\n",
       "      <td>2020-07-13 04:43:04</td>\n",
       "      <td>34.223334</td>\n",
       "      <td>-82.461707</td>\n",
       "      <td>153</td>\n",
       "      <td>1</td>\n",
       "      <td>0</td>\n",
       "      <td>152.0</td>\n",
       "      <td>Abbeville, South Carolina, US</td>\n",
       "      <td>623.802340</td>\n",
       "      <td>0.653595</td>\n",
       "    </tr>\n",
       "    <tr>\n",
       "      <th>1</th>\n",
       "      <td>22001.0</td>\n",
       "      <td>Acadia</td>\n",
       "      <td>Louisiana</td>\n",
       "      <td>US</td>\n",
       "      <td>2020-07-13 04:43:04</td>\n",
       "      <td>30.295065</td>\n",
       "      <td>-92.414197</td>\n",
       "      <td>1339</td>\n",
       "      <td>45</td>\n",
       "      <td>0</td>\n",
       "      <td>1294.0</td>\n",
       "      <td>Acadia, Louisiana, US</td>\n",
       "      <td>2158.111048</td>\n",
       "      <td>3.360717</td>\n",
       "    </tr>\n",
       "    <tr>\n",
       "      <th>2</th>\n",
       "      <td>51001.0</td>\n",
       "      <td>Accomack</td>\n",
       "      <td>Virginia</td>\n",
       "      <td>US</td>\n",
       "      <td>2020-07-13 04:43:04</td>\n",
       "      <td>37.767072</td>\n",
       "      <td>-75.632346</td>\n",
       "      <td>1042</td>\n",
       "      <td>14</td>\n",
       "      <td>0</td>\n",
       "      <td>1028.0</td>\n",
       "      <td>Accomack, Virginia, US</td>\n",
       "      <td>3224.408962</td>\n",
       "      <td>1.343570</td>\n",
       "    </tr>\n",
       "    <tr>\n",
       "      <th>3</th>\n",
       "      <td>16001.0</td>\n",
       "      <td>Ada</td>\n",
       "      <td>Idaho</td>\n",
       "      <td>US</td>\n",
       "      <td>2020-07-13 04:43:04</td>\n",
       "      <td>43.452658</td>\n",
       "      <td>-116.241552</td>\n",
       "      <td>4146</td>\n",
       "      <td>25</td>\n",
       "      <td>0</td>\n",
       "      <td>4121.0</td>\n",
       "      <td>Ada, Idaho, US</td>\n",
       "      <td>860.903637</td>\n",
       "      <td>0.602991</td>\n",
       "    </tr>\n",
       "    <tr>\n",
       "      <th>4</th>\n",
       "      <td>19001.0</td>\n",
       "      <td>Adair</td>\n",
       "      <td>Iowa</td>\n",
       "      <td>US</td>\n",
       "      <td>2020-07-13 04:43:04</td>\n",
       "      <td>41.330756</td>\n",
       "      <td>-94.471059</td>\n",
       "      <td>17</td>\n",
       "      <td>0</td>\n",
       "      <td>0</td>\n",
       "      <td>17.0</td>\n",
       "      <td>Adair, Iowa, US</td>\n",
       "      <td>237.695749</td>\n",
       "      <td>0.000000</td>\n",
       "    </tr>\n",
       "  </tbody>\n",
       "</table>\n",
       "</div>"
      ],
      "text/plain": [
       "      FIPS     Admin2  Province_State Country_Region         Last_Update  \\\n",
       "0  45001.0  Abbeville  South Carolina             US 2020-07-13 04:43:04   \n",
       "1  22001.0     Acadia       Louisiana             US 2020-07-13 04:43:04   \n",
       "2  51001.0   Accomack        Virginia             US 2020-07-13 04:43:04   \n",
       "3  16001.0        Ada           Idaho             US 2020-07-13 04:43:04   \n",
       "4  19001.0      Adair            Iowa             US 2020-07-13 04:43:04   \n",
       "\n",
       "         Lat       Long_  Confirmed  Deaths  Recovered  Active  \\\n",
       "0  34.223334  -82.461707        153       1          0   152.0   \n",
       "1  30.295065  -92.414197       1339      45          0  1294.0   \n",
       "2  37.767072  -75.632346       1042      14          0  1028.0   \n",
       "3  43.452658 -116.241552       4146      25          0  4121.0   \n",
       "4  41.330756  -94.471059         17       0          0    17.0   \n",
       "\n",
       "                    Combined_Key  Incidence_Rate  Case-Fatality_Ratio  \n",
       "0  Abbeville, South Carolina, US      623.802340             0.653595  \n",
       "1          Acadia, Louisiana, US     2158.111048             3.360717  \n",
       "2         Accomack, Virginia, US     3224.408962             1.343570  \n",
       "3                 Ada, Idaho, US      860.903637             0.602991  \n",
       "4                Adair, Iowa, US      237.695749             0.000000  "
      ]
     },
     "execution_count": 4,
     "metadata": {},
     "output_type": "execute_result"
    }
   ],
   "source": [
    "covid_df.head()"
   ]
  },
  {
   "cell_type": "code",
   "execution_count": 5,
   "metadata": {},
   "outputs": [
    {
     "name": "stdout",
     "output_type": "stream",
     "text": [
      "<class 'pandas.core.frame.DataFrame'>\n",
      "RangeIndex: 3813 entries, 0 to 3812\n",
      "Data columns (total 14 columns):\n",
      " #   Column               Non-Null Count  Dtype         \n",
      "---  ------               --------------  -----         \n",
      " 0   FIPS                 3131 non-null   float64       \n",
      " 1   Admin2               3135 non-null   object        \n",
      " 2   Province_State       3644 non-null   object        \n",
      " 3   Country_Region       3813 non-null   object        \n",
      " 4   Last_Update          3813 non-null   datetime64[ns]\n",
      " 5   Lat                  3739 non-null   float64       \n",
      " 6   Long_                3739 non-null   float64       \n",
      " 7   Confirmed            3813 non-null   int64         \n",
      " 8   Deaths               3813 non-null   int64         \n",
      " 9   Recovered            3813 non-null   int64         \n",
      " 10  Active               3809 non-null   float64       \n",
      " 11  Combined_Key         3813 non-null   object        \n",
      " 12  Incidence_Rate       3739 non-null   float64       \n",
      " 13  Case-Fatality_Ratio  3762 non-null   float64       \n",
      "dtypes: datetime64[ns](1), float64(6), int64(3), object(4)\n",
      "memory usage: 417.2+ KB\n"
     ]
    }
   ],
   "source": [
    "covid_df.info()"
   ]
  },
  {
   "cell_type": "code",
   "execution_count": 6,
   "metadata": {},
   "outputs": [
    {
     "data": {
      "text/plain": [
       "FIPS                   682\n",
       "Admin2                 678\n",
       "Province_State         169\n",
       "Country_Region           0\n",
       "Last_Update              0\n",
       "Lat                     74\n",
       "Long_                   74\n",
       "Confirmed                0\n",
       "Deaths                   0\n",
       "Recovered                0\n",
       "Active                   4\n",
       "Combined_Key             0\n",
       "Incidence_Rate          74\n",
       "Case-Fatality_Ratio     51\n",
       "dtype: int64"
      ]
     },
     "execution_count": 6,
     "metadata": {},
     "output_type": "execute_result"
    }
   ],
   "source": [
    "covid_df.isnull().sum()"
   ]
  },
  {
   "cell_type": "code",
   "execution_count": 7,
   "metadata": {},
   "outputs": [
    {
     "name": "stderr",
     "output_type": "stream",
     "text": [
      "C:\\Users\\hp\\anaconda3\\lib\\site-packages\\ipykernel_launcher.py:1: FutureWarning: Indexing with multiple keys (implicitly converted to a tuple of keys) will be deprecated, use a list instead.\n",
      "  \"\"\"Entry point for launching an IPython kernel.\n"
     ]
    }
   ],
   "source": [
    "grouped_data = covid_df.groupby('Country_Region')['Confirmed', 'Deaths', 'Recovered', 'Active', 'Incidence_Rate','Case-Fatality_Ratio'].sum().reset_index()"
   ]
  },
  {
   "cell_type": "code",
   "execution_count": 128,
   "metadata": {},
   "outputs": [
    {
     "data": {
      "text/html": [
       "<div>\n",
       "<style scoped>\n",
       "    .dataframe tbody tr th:only-of-type {\n",
       "        vertical-align: middle;\n",
       "    }\n",
       "\n",
       "    .dataframe tbody tr th {\n",
       "        vertical-align: top;\n",
       "    }\n",
       "\n",
       "    .dataframe thead th {\n",
       "        text-align: right;\n",
       "    }\n",
       "</style>\n",
       "<table border=\"1\" class=\"dataframe\">\n",
       "  <thead>\n",
       "    <tr style=\"text-align: right;\">\n",
       "      <th></th>\n",
       "      <th>Country_Region</th>\n",
       "      <th>Confirmed</th>\n",
       "      <th>Deaths</th>\n",
       "      <th>Recovered</th>\n",
       "      <th>Active</th>\n",
       "      <th>Incidence_Rate</th>\n",
       "      <th>Case-Fatality_Ratio</th>\n",
       "    </tr>\n",
       "  </thead>\n",
       "  <tbody>\n",
       "    <tr>\n",
       "      <th>174</th>\n",
       "      <td>US</td>\n",
       "      <td>3304942.0</td>\n",
       "      <td>135205.0</td>\n",
       "      <td>1006326.0</td>\n",
       "      <td>2208772.0</td>\n",
       "      <td>2.027605e+06</td>\n",
       "      <td>10546.526615</td>\n",
       "    </tr>\n",
       "    <tr>\n",
       "      <th>23</th>\n",
       "      <td>Brazil</td>\n",
       "      <td>1864681.0</td>\n",
       "      <td>72100.0</td>\n",
       "      <td>1264843.0</td>\n",
       "      <td>527738.0</td>\n",
       "      <td>3.511238e+04</td>\n",
       "      <td>82.765642</td>\n",
       "    </tr>\n",
       "    <tr>\n",
       "      <th>79</th>\n",
       "      <td>India</td>\n",
       "      <td>878254.0</td>\n",
       "      <td>23174.0</td>\n",
       "      <td>553471.0</td>\n",
       "      <td>301609.0</td>\n",
       "      <td>2.730168e+03</td>\n",
       "      <td>44.519569</td>\n",
       "    </tr>\n",
       "    <tr>\n",
       "      <th>140</th>\n",
       "      <td>Russia</td>\n",
       "      <td>726036.0</td>\n",
       "      <td>11318.0</td>\n",
       "      <td>500208.0</td>\n",
       "      <td>214510.0</td>\n",
       "      <td>3.776617e+04</td>\n",
       "      <td>90.606512</td>\n",
       "    </tr>\n",
       "    <tr>\n",
       "      <th>134</th>\n",
       "      <td>Peru</td>\n",
       "      <td>326326.0</td>\n",
       "      <td>11870.0</td>\n",
       "      <td>217111.0</td>\n",
       "      <td>97345.0</td>\n",
       "      <td>1.875724e+04</td>\n",
       "      <td>84.934502</td>\n",
       "    </tr>\n",
       "  </tbody>\n",
       "</table>\n",
       "</div>"
      ],
      "text/plain": [
       "    Country_Region  Confirmed    Deaths  Recovered     Active  Incidence_Rate  \\\n",
       "174             US  3304942.0  135205.0  1006326.0  2208772.0    2.027605e+06   \n",
       "23          Brazil  1864681.0   72100.0  1264843.0   527738.0    3.511238e+04   \n",
       "79           India   878254.0   23174.0   553471.0   301609.0    2.730168e+03   \n",
       "140         Russia   726036.0   11318.0   500208.0   214510.0    3.776617e+04   \n",
       "134           Peru   326326.0   11870.0   217111.0    97345.0    1.875724e+04   \n",
       "\n",
       "     Case-Fatality_Ratio  \n",
       "174         10546.526615  \n",
       "23             82.765642  \n",
       "79             44.519569  \n",
       "140            90.606512  \n",
       "134            84.934502  "
      ]
     },
     "execution_count": 128,
     "metadata": {},
     "output_type": "execute_result"
    }
   ],
   "source": [
    "grouped_data.head()"
   ]
  },
  {
   "cell_type": "code",
   "execution_count": 9,
   "metadata": {},
   "outputs": [],
   "source": [
    "save_grouped_df= pd.DataFrame(grouped_data).to_csv('grouped_data_13July.csv')"
   ]
  },
  {
   "cell_type": "code",
   "execution_count": 10,
   "metadata": {},
   "outputs": [],
   "source": [
    "from sklearn.cluster import KMeans"
   ]
  },
  {
   "cell_type": "code",
   "execution_count": 11,
   "metadata": {},
   "outputs": [
    {
     "name": "stderr",
     "output_type": "stream",
     "text": [
      "C:\\Users\\hp\\anaconda3\\lib\\site-packages\\sklearn\\utils\\deprecation.py:144: FutureWarning: The sklearn.datasets.samples_generator module is  deprecated in version 0.22 and will be removed in version 0.24. The corresponding classes / functions should instead be imported from sklearn.datasets. Anything that cannot be imported from sklearn.datasets is now part of the private API.\n",
      "  warnings.warn(message, FutureWarning)\n"
     ]
    }
   ],
   "source": [
    "from sklearn.datasets.samples_generator import make_blobs"
   ]
  },
  {
   "cell_type": "code",
   "execution_count": 13,
   "metadata": {},
   "outputs": [],
   "source": [
    "grouped_data[\"Confirmed\"]=grouped_data[\"Confirmed\"].astype(\"float64\")"
   ]
  },
  {
   "cell_type": "code",
   "execution_count": 14,
   "metadata": {},
   "outputs": [],
   "source": [
    "grouped_data[\"Deaths\"]=grouped_data[\"Deaths\"].astype(\"float64\")"
   ]
  },
  {
   "cell_type": "code",
   "execution_count": 15,
   "metadata": {},
   "outputs": [],
   "source": [
    "grouped_data[\"Recovered\"]=grouped_data[\"Recovered\"].astype(\"float64\")"
   ]
  },
  {
   "cell_type": "code",
   "execution_count": 16,
   "metadata": {},
   "outputs": [
    {
     "name": "stdout",
     "output_type": "stream",
     "text": [
      "<class 'pandas.core.frame.DataFrame'>\n",
      "RangeIndex: 188 entries, 0 to 187\n",
      "Data columns (total 7 columns):\n",
      " #   Column               Non-Null Count  Dtype  \n",
      "---  ------               --------------  -----  \n",
      " 0   Country_Region       188 non-null    object \n",
      " 1   Confirmed            188 non-null    float64\n",
      " 2   Deaths               188 non-null    float64\n",
      " 3   Recovered            188 non-null    float64\n",
      " 4   Active               188 non-null    float64\n",
      " 5   Incidence_Rate       188 non-null    float64\n",
      " 6   Case-Fatality_Ratio  188 non-null    float64\n",
      "dtypes: float64(6), object(1)\n",
      "memory usage: 10.4+ KB\n"
     ]
    }
   ],
   "source": [
    "grouped_data.info()"
   ]
  },
  {
   "cell_type": "code",
   "execution_count": 20,
   "metadata": {},
   "outputs": [],
   "source": [
    "df = pd.DataFrame(grouped_data, columns=['Confirmed','Deaths','Recovered','Active','Incidence_Rate','Case-Fatality_Ratio'])"
   ]
  },
  {
   "cell_type": "code",
   "execution_count": 21,
   "metadata": {},
   "outputs": [
    {
     "name": "stdout",
     "output_type": "stream",
     "text": [
      "[[3.33502391e+04 1.77897283e+03 2.06092880e+04 1.09619891e+04\n",
      "  7.33295070e+02 1.18223072e+01]\n",
      " [3.30494200e+06 1.35205000e+05 1.00632600e+06 2.20877200e+06\n",
      "  2.02760452e+06 1.05465266e+04]\n",
      " [1.15632367e+06 3.55306667e+04 7.72840667e+05 3.47952333e+05\n",
      "  2.52029065e+04 7.26305743e+01]]\n"
     ]
    }
   ],
   "source": [
    "kmeans = KMeans(n_clusters=3).fit(df)\n",
    "centroids = kmeans.cluster_centers_\n",
    "print(centroids)"
   ]
  },
  {
   "cell_type": "code",
   "execution_count": 22,
   "metadata": {},
   "outputs": [
    {
     "data": {
      "image/png": "[encoded data removed]",
      "text/plain": [
       "<Figure size 432x288 with 1 Axes>"
      ]
     },
     "metadata": {
      "needs_background": "light"
     },
     "output_type": "display_data"
    }
   ],
   "source": [
    "wcss = []\n",
    "for i in range(1, 6):\n",
    "    kmeans = KMeans(n_clusters=i, init='k-means++', max_iter=3813, n_init=10, random_state=0)\n",
    "    kmeans.fit(df)\n",
    "    wcss.append(kmeans.inertia_)\n",
    "plt.plot(range(1, 6), wcss)\n",
    "plt.title('Elbow Method')\n",
    "plt.xlabel('Number of clusters')\n",
    "plt.ylabel('WCSS')\n",
    "plt.show()"
   ]
  },
  {
   "cell_type": "code",
   "execution_count": 24,
   "metadata": {},
   "outputs": [],
   "source": [
    "from sklearn.preprocessing import StandardScaler"
   ]
  },
  {
   "cell_type": "code",
   "execution_count": 25,
   "metadata": {},
   "outputs": [],
   "source": [
    "features = ['Confirmed','Deaths','Recovered','Active','Incidence_Rate','Case-Fatality_Ratio']\n",
    "# Separating out the features\n",
    "x = grouped_data.loc[:, features].values\n",
    "# Separating out the target\n",
    "y = grouped_data.loc[:,['Country_Region']].values\n",
    "# Standardizing the features\n",
    "x = StandardScaler().fit_transform(x)"
   ]
  },
  {
   "cell_type": "code",
   "execution_count": 26,
   "metadata": {},
   "outputs": [],
   "source": [
    "from sklearn.decomposition import PCA"
   ]
  },
  {
   "cell_type": "code",
   "execution_count": 27,
   "metadata": {},
   "outputs": [],
   "source": [
    "pca = PCA(n_components=2)\n",
    "principalComponents = pca.fit_transform(x)\n",
    "principalDf = pd.DataFrame(data = principalComponents\n",
    "             , columns = ['principal component 1', 'principal component 2'])"
   ]
  },
  {
   "cell_type": "code",
   "execution_count": 30,
   "metadata": {},
   "outputs": [],
   "source": [
    "finalDf = pd.concat([principalDf, grouped_data[['Country_Region']]], axis = 1)"
   ]
  },
  {
   "cell_type": "code",
   "execution_count": 31,
   "metadata": {},
   "outputs": [
    {
     "data": {
      "text/html": [
       "<div>\n",
       "<style scoped>\n",
       "    .dataframe tbody tr th:only-of-type {\n",
       "        vertical-align: middle;\n",
       "    }\n",
       "\n",
       "    .dataframe tbody tr th {\n",
       "        vertical-align: top;\n",
       "    }\n",
       "\n",
       "    .dataframe thead th {\n",
       "        text-align: right;\n",
       "    }\n",
       "</style>\n",
       "<table border=\"1\" class=\"dataframe\">\n",
       "  <thead>\n",
       "    <tr style=\"text-align: right;\">\n",
       "      <th></th>\n",
       "      <th>principal component 1</th>\n",
       "      <th>principal component 2</th>\n",
       "      <th>Country_Region</th>\n",
       "    </tr>\n",
       "  </thead>\n",
       "  <tbody>\n",
       "    <tr>\n",
       "      <th>0</th>\n",
       "      <td>-0.269365</td>\n",
       "      <td>-0.056933</td>\n",
       "      <td>Afghanistan</td>\n",
       "    </tr>\n",
       "    <tr>\n",
       "      <th>1</th>\n",
       "      <td>-0.424467</td>\n",
       "      <td>-0.185826</td>\n",
       "      <td>Albania</td>\n",
       "    </tr>\n",
       "    <tr>\n",
       "      <th>2</th>\n",
       "      <td>-0.330699</td>\n",
       "      <td>-0.101711</td>\n",
       "      <td>Algeria</td>\n",
       "    </tr>\n",
       "    <tr>\n",
       "      <th>3</th>\n",
       "      <td>-0.431837</td>\n",
       "      <td>-0.198247</td>\n",
       "      <td>Andorra</td>\n",
       "    </tr>\n",
       "    <tr>\n",
       "      <th>4</th>\n",
       "      <td>-0.437633</td>\n",
       "      <td>-0.198790</td>\n",
       "      <td>Angola</td>\n",
       "    </tr>\n",
       "  </tbody>\n",
       "</table>\n",
       "</div>"
      ],
      "text/plain": [
       "   principal component 1  principal component 2 Country_Region\n",
       "0              -0.269365              -0.056933    Afghanistan\n",
       "1              -0.424467              -0.185826        Albania\n",
       "2              -0.330699              -0.101711        Algeria\n",
       "3              -0.431837              -0.198247        Andorra\n",
       "4              -0.437633              -0.198790         Angola"
      ]
     },
     "execution_count": 31,
     "metadata": {},
     "output_type": "execute_result"
    }
   ],
   "source": [
    "finalDf.head()"
   ]
  },
  {
   "cell_type": "code",
   "execution_count": 32,
   "metadata": {},
   "outputs": [
    {
     "data": {
      "text/plain": [
       "array([0.86202963, 0.11559763])"
      ]
     },
     "execution_count": 32,
     "metadata": {},
     "output_type": "execute_result"
    }
   ],
   "source": [
    "pca.explained_variance_ratio_"
   ]
  },
  {
   "cell_type": "code",
   "execution_count": 33,
   "metadata": {},
   "outputs": [],
   "source": [
    "pca = PCA(n_components=3)\n",
    "principalComponents = pca.fit_transform(x)\n",
    "principalDf2 = pd.DataFrame(data = principalComponents\n",
    "             , columns = ['PC_1', 'PC_2', 'PC_3'])"
   ]
  },
  {
   "cell_type": "code",
   "execution_count": 34,
   "metadata": {},
   "outputs": [],
   "source": [
    "finalDf = pd.concat([principalDf2, grouped_data[['Country_Region']]], axis = 1)"
   ]
  },
  {
   "cell_type": "code",
   "execution_count": 35,
   "metadata": {},
   "outputs": [
    {
     "data": {
      "text/html": [
       "<div>\n",
       "<style scoped>\n",
       "    .dataframe tbody tr th:only-of-type {\n",
       "        vertical-align: middle;\n",
       "    }\n",
       "\n",
       "    .dataframe tbody tr th {\n",
       "        vertical-align: top;\n",
       "    }\n",
       "\n",
       "    .dataframe thead th {\n",
       "        text-align: right;\n",
       "    }\n",
       "</style>\n",
       "<table border=\"1\" class=\"dataframe\">\n",
       "  <thead>\n",
       "    <tr style=\"text-align: right;\">\n",
       "      <th></th>\n",
       "      <th>PC_1</th>\n",
       "      <th>PC_2</th>\n",
       "      <th>PC_3</th>\n",
       "      <th>Country_Region</th>\n",
       "    </tr>\n",
       "  </thead>\n",
       "  <tbody>\n",
       "    <tr>\n",
       "      <th>0</th>\n",
       "      <td>-0.269365</td>\n",
       "      <td>-0.056933</td>\n",
       "      <td>-0.041423</td>\n",
       "      <td>Afghanistan</td>\n",
       "    </tr>\n",
       "    <tr>\n",
       "      <th>1</th>\n",
       "      <td>-0.424467</td>\n",
       "      <td>-0.185826</td>\n",
       "      <td>-0.023714</td>\n",
       "      <td>Albania</td>\n",
       "    </tr>\n",
       "    <tr>\n",
       "      <th>2</th>\n",
       "      <td>-0.330699</td>\n",
       "      <td>-0.101711</td>\n",
       "      <td>-0.005906</td>\n",
       "      <td>Algeria</td>\n",
       "    </tr>\n",
       "    <tr>\n",
       "      <th>3</th>\n",
       "      <td>-0.431837</td>\n",
       "      <td>-0.198247</td>\n",
       "      <td>-0.022348</td>\n",
       "      <td>Andorra</td>\n",
       "    </tr>\n",
       "    <tr>\n",
       "      <th>4</th>\n",
       "      <td>-0.437633</td>\n",
       "      <td>-0.198790</td>\n",
       "      <td>-0.020750</td>\n",
       "      <td>Angola</td>\n",
       "    </tr>\n",
       "  </tbody>\n",
       "</table>\n",
       "</div>"
      ],
      "text/plain": [
       "       PC_1      PC_2      PC_3 Country_Region\n",
       "0 -0.269365 -0.056933 -0.041423    Afghanistan\n",
       "1 -0.424467 -0.185826 -0.023714        Albania\n",
       "2 -0.330699 -0.101711 -0.005906        Algeria\n",
       "3 -0.431837 -0.198247 -0.022348        Andorra\n",
       "4 -0.437633 -0.198790 -0.020750         Angola"
      ]
     },
     "execution_count": 35,
     "metadata": {},
     "output_type": "execute_result"
    }
   ],
   "source": [
    "finalDf.head()"
   ]
  },
  {
   "cell_type": "code",
   "execution_count": 41,
   "metadata": {},
   "outputs": [
    {
     "data": {
      "text/html": [
       "<div>\n",
       "<style scoped>\n",
       "    .dataframe tbody tr th:only-of-type {\n",
       "        vertical-align: middle;\n",
       "    }\n",
       "\n",
       "    .dataframe tbody tr th {\n",
       "        vertical-align: top;\n",
       "    }\n",
       "\n",
       "    .dataframe thead th {\n",
       "        text-align: right;\n",
       "    }\n",
       "</style>\n",
       "<table border=\"1\" class=\"dataframe\">\n",
       "  <thead>\n",
       "    <tr style=\"text-align: right;\">\n",
       "      <th></th>\n",
       "      <th>PC_1</th>\n",
       "      <th>PC_2</th>\n",
       "      <th>PC_3</th>\n",
       "    </tr>\n",
       "  </thead>\n",
       "  <tbody>\n",
       "    <tr>\n",
       "      <th>count</th>\n",
       "      <td>1.880000e+02</td>\n",
       "      <td>1.880000e+02</td>\n",
       "      <td>1.880000e+02</td>\n",
       "    </tr>\n",
       "    <tr>\n",
       "      <th>mean</th>\n",
       "      <td>-8.415254e-17</td>\n",
       "      <td>-4.621008e-17</td>\n",
       "      <td>-2.557794e-17</td>\n",
       "    </tr>\n",
       "    <tr>\n",
       "      <th>std</th>\n",
       "      <td>2.280315e+00</td>\n",
       "      <td>8.350418e-01</td>\n",
       "      <td>3.410279e-01</td>\n",
       "    </tr>\n",
       "    <tr>\n",
       "      <th>min</th>\n",
       "      <td>-4.431618e-01</td>\n",
       "      <td>-4.547308e+00</td>\n",
       "      <td>-1.322800e+00</td>\n",
       "    </tr>\n",
       "    <tr>\n",
       "      <th>25%</th>\n",
       "      <td>-4.375818e-01</td>\n",
       "      <td>-1.957139e-01</td>\n",
       "      <td>-3.343168e-02</td>\n",
       "    </tr>\n",
       "    <tr>\n",
       "      <th>50%</th>\n",
       "      <td>-4.185432e-01</td>\n",
       "      <td>-1.841971e-01</td>\n",
       "      <td>-2.293909e-02</td>\n",
       "    </tr>\n",
       "    <tr>\n",
       "      <th>75%</th>\n",
       "      <td>-2.714374e-01</td>\n",
       "      <td>-8.251163e-02</td>\n",
       "      <td>-2.124697e-02</td>\n",
       "    </tr>\n",
       "    <tr>\n",
       "      <th>max</th>\n",
       "      <td>2.842831e+01</td>\n",
       "      <td>8.328437e+00</td>\n",
       "      <td>2.785745e+00</td>\n",
       "    </tr>\n",
       "  </tbody>\n",
       "</table>\n",
       "</div>"
      ],
      "text/plain": [
       "               PC_1          PC_2          PC_3\n",
       "count  1.880000e+02  1.880000e+02  1.880000e+02\n",
       "mean  -8.415254e-17 -4.621008e-17 -2.557794e-17\n",
       "std    2.280315e+00  8.350418e-01  3.410279e-01\n",
       "min   -4.431618e-01 -4.547308e+00 -1.322800e+00\n",
       "25%   -4.375818e-01 -1.957139e-01 -3.343168e-02\n",
       "50%   -4.185432e-01 -1.841971e-01 -2.293909e-02\n",
       "75%   -2.714374e-01 -8.251163e-02 -2.124697e-02\n",
       "max    2.842831e+01  8.328437e+00  2.785745e+00"
      ]
     },
     "execution_count": 41,
     "metadata": {},
     "output_type": "execute_result"
    }
   ],
   "source": [
    "finalDf.describe()"
   ]
  },
  {
   "cell_type": "code",
   "execution_count": 42,
   "metadata": {},
   "outputs": [
    {
     "data": {
      "text/plain": [
       "188"
      ]
     },
     "execution_count": 42,
     "metadata": {},
     "output_type": "execute_result"
    }
   ],
   "source": [
    "len(finalDf)"
   ]
  },
  {
   "cell_type": "code",
   "execution_count": 47,
   "metadata": {},
   "outputs": [],
   "source": [
    "finalDf_feat = pd.DataFrame(finalDf, columns=['PC_1', 'PC_2', 'PC_3'])"
   ]
  },
  {
   "cell_type": "code",
   "execution_count": 48,
   "metadata": {},
   "outputs": [],
   "source": [
    "distortions = []\n",
    "K = range(1,10)\n",
    "for k in K:\n",
    "    kmeanModel = KMeans(n_clusters=k)\n",
    "    kmeanModel.fit(finalDf_feat)\n",
    "    distortions.append(kmeanModel.inertia_)"
   ]
  },
  {
   "cell_type": "code",
   "execution_count": 49,
   "metadata": {},
   "outputs": [
    {
     "data": {
      "image/png": "[encoded data removed]",
      "text/plain": [
       "<Figure size 1152x576 with 1 Axes>"
      ]
     },
     "metadata": {
      "needs_background": "light"
     },
     "output_type": "display_data"
    }
   ],
   "source": [
    "plt.figure(figsize=(16,8))\n",
    "plt.plot(K, distortions, 'bx-')\n",
    "plt.xlabel('k')\n",
    "plt.ylabel('Distortion')\n",
    "plt.title('The Elbow Method showing the optimal k')\n",
    "plt.show()"
   ]
  },
  {
   "cell_type": "code",
   "execution_count": 50,
   "metadata": {},
   "outputs": [
    {
     "data": {
      "text/plain": [
       "KMeans(algorithm='auto', copy_x=True, init='k-means++', max_iter=300,\n",
       "       n_clusters=3, n_init=10, n_jobs=None, precompute_distances='auto',\n",
       "       random_state=None, tol=0.0001, verbose=0)"
      ]
     },
     "execution_count": 50,
     "metadata": {},
     "output_type": "execute_result"
    }
   ],
   "source": [
    "kmeanModel = KMeans(n_clusters=3)\n",
    "kmeanModel.fit(finalDf_feat)"
   ]
  },
  {
   "cell_type": "code",
   "execution_count": 53,
   "metadata": {},
   "outputs": [],
   "source": [
    "import scipy.cluster.hierarchy as sch"
   ]
  },
  {
   "cell_type": "code",
   "execution_count": 57,
   "metadata": {},
   "outputs": [
    {
     "data": {
      "image/png": "[encoded data removed]",
      "text/plain": [
       "<Figure size 432x288 with 1 Axes>"
      ]
     },
     "metadata": {
      "needs_background": "light"
     },
     "output_type": "display_data"
    },
    {
     "data": {
      "image/png": "[encoded data removed]",
      "text/plain": [
       "<Figure size 1152x576 with 1 Axes>"
      ]
     },
     "metadata": {
      "needs_background": "light"
     },
     "output_type": "display_data"
    }
   ],
   "source": [
    "dendrogram = sch.dendrogram(sch.linkage(df, method  = \"ward\"))\n",
    "plt.figure(figsize=(16,8))\n",
    "plt.title('Dendrogram')\n",
    "plt.xlabel('Country_Region')\n",
    "plt.ylabel('Euclidean distances')\n",
    "plt.show()"
   ]
  },
  {
   "cell_type": "code",
   "execution_count": 58,
   "metadata": {},
   "outputs": [],
   "source": [
    "from sklearn.cluster import AgglomerativeClustering \n",
    "hc = AgglomerativeClustering(n_clusters = 3, affinity = 'euclidean', linkage ='ward')"
   ]
  },
  {
   "cell_type": "code",
   "execution_count": 68,
   "metadata": {},
   "outputs": [],
   "source": [
    "#y_hc=hc.fit_predict(df)\n",
    "hc.fit(df)\n",
    "labels = hc.labels_"
   ]
  },
  {
   "cell_type": "code",
   "execution_count": 69,
   "metadata": {},
   "outputs": [
    {
     "ename": "TypeError",
     "evalue": "'(array([ True,  True,  True,  True,  True,  True,  True,  True,  True,\n        True,  True,  True,  True,  True,  True,  True,  True,  True,\n        True,  True,  True,  True,  True, False,  True,  True,  True,\n        True,  True,  True,  True,  True,  True,  True,  True,  True,\n        True,  True,  True,  True,  True,  True,  True,  True,  True,\n        True,  True,  True,  True,  True,  True,  True,  True,  True,\n        True,  True,  True,  True,  True,  True,  True,  True,  True,\n        True,  True,  True,  True,  True,  True,  True,  True,  True,\n        True,  True,  True,  True,  True,  True,  True,  True,  True,\n        True,  True,  True,  True,  True,  True,  True,  True,  True,\n        True,  True,  True,  True,  True,  True,  True,  True,  True,\n        True,  True,  True,  True,  True,  True,  True,  True,  True,\n        True,  True,  True,  True,  True,  True,  True,  True,  True,\n        True,  True,  True,  True,  True,  True,  True,  True,  True,\n        True,  True,  True,  True,  True,  True,  True,  True,  True,\n        True,  True,  True,  True,  True,  True,  True,  True,  True,\n        True,  True,  True,  True,  True,  True,  True,  True,  True,\n        True,  True,  True,  True,  True,  True,  True,  True,  True,\n        True,  True,  True,  True,  True,  True,  True,  True,  True,\n        True,  True,  True, False,  True,  True,  True,  True,  True,\n        True,  True,  True,  True,  True,  True,  True,  True]), 0)' is an invalid key",
     "output_type": "error",
     "traceback": [
      "\u001b[1;31m---------------------------------------------------------------------------\u001b[0m",
      "\u001b[1;31mTypeError\u001b[0m                                 Traceback (most recent call last)",
      "\u001b[1;32m<ipython-input-69-5e2d379334ad>\u001b[0m in \u001b[0;36m<module>\u001b[1;34m\u001b[0m\n\u001b[1;32m----> 1\u001b[1;33m \u001b[0mplt\u001b[0m\u001b[1;33m.\u001b[0m\u001b[0mscatter\u001b[0m\u001b[1;33m(\u001b[0m\u001b[0mdf\u001b[0m\u001b[1;33m[\u001b[0m\u001b[0mlabels\u001b[0m\u001b[1;33m==\u001b[0m\u001b[1;36m0\u001b[0m\u001b[1;33m,\u001b[0m \u001b[1;36m0\u001b[0m\u001b[1;33m]\u001b[0m\u001b[1;33m,\u001b[0m \u001b[0mdf\u001b[0m\u001b[1;33m[\u001b[0m\u001b[0mlabels\u001b[0m\u001b[1;33m==\u001b[0m\u001b[1;36m0\u001b[0m\u001b[1;33m,\u001b[0m \u001b[1;36m1\u001b[0m\u001b[1;33m]\u001b[0m\u001b[1;33m,\u001b[0m \u001b[0ms\u001b[0m\u001b[1;33m=\u001b[0m\u001b[1;36m50\u001b[0m\u001b[1;33m,\u001b[0m \u001b[0mmarker\u001b[0m\u001b[1;33m=\u001b[0m\u001b[1;34m'o'\u001b[0m\u001b[1;33m,\u001b[0m \u001b[0mcolor\u001b[0m\u001b[1;33m=\u001b[0m\u001b[1;34m'red'\u001b[0m\u001b[1;33m)\u001b[0m\u001b[1;33m\u001b[0m\u001b[1;33m\u001b[0m\u001b[0m\n\u001b[0m\u001b[0;32m      2\u001b[0m \u001b[0mplt\u001b[0m\u001b[1;33m.\u001b[0m\u001b[0mscatter\u001b[0m\u001b[1;33m(\u001b[0m\u001b[0mdf\u001b[0m\u001b[1;33m[\u001b[0m\u001b[0mlabels\u001b[0m\u001b[1;33m==\u001b[0m\u001b[1;36m1\u001b[0m\u001b[1;33m,\u001b[0m \u001b[1;36m0\u001b[0m\u001b[1;33m]\u001b[0m\u001b[1;33m,\u001b[0m \u001b[0mdf\u001b[0m\u001b[1;33m[\u001b[0m\u001b[0mlabels\u001b[0m\u001b[1;33m==\u001b[0m\u001b[1;36m1\u001b[0m\u001b[1;33m,\u001b[0m \u001b[1;36m1\u001b[0m\u001b[1;33m]\u001b[0m\u001b[1;33m,\u001b[0m \u001b[0ms\u001b[0m\u001b[1;33m=\u001b[0m\u001b[1;36m50\u001b[0m\u001b[1;33m,\u001b[0m \u001b[0mmarker\u001b[0m\u001b[1;33m=\u001b[0m\u001b[1;34m'o'\u001b[0m\u001b[1;33m,\u001b[0m \u001b[0mcolor\u001b[0m\u001b[1;33m=\u001b[0m\u001b[1;34m'blue'\u001b[0m\u001b[1;33m)\u001b[0m\u001b[1;33m\u001b[0m\u001b[1;33m\u001b[0m\u001b[0m\n\u001b[0;32m      3\u001b[0m \u001b[0mplt\u001b[0m\u001b[1;33m.\u001b[0m\u001b[0mscatter\u001b[0m\u001b[1;33m(\u001b[0m\u001b[0mdf\u001b[0m\u001b[1;33m[\u001b[0m\u001b[0mlabels\u001b[0m\u001b[1;33m==\u001b[0m\u001b[1;36m2\u001b[0m\u001b[1;33m,\u001b[0m \u001b[1;36m0\u001b[0m\u001b[1;33m]\u001b[0m\u001b[1;33m,\u001b[0m \u001b[0mdf\u001b[0m\u001b[1;33m[\u001b[0m\u001b[0mlabels\u001b[0m\u001b[1;33m==\u001b[0m\u001b[1;36m2\u001b[0m\u001b[1;33m,\u001b[0m \u001b[1;36m1\u001b[0m\u001b[1;33m]\u001b[0m\u001b[1;33m,\u001b[0m \u001b[0ms\u001b[0m\u001b[1;33m=\u001b[0m\u001b[1;36m50\u001b[0m\u001b[1;33m,\u001b[0m \u001b[0mmarker\u001b[0m\u001b[1;33m=\u001b[0m\u001b[1;34m'o'\u001b[0m\u001b[1;33m,\u001b[0m \u001b[0mcolor\u001b[0m\u001b[1;33m=\u001b[0m\u001b[1;34m'green'\u001b[0m\u001b[1;33m)\u001b[0m\u001b[1;33m\u001b[0m\u001b[1;33m\u001b[0m\u001b[0m\n",
      "\u001b[1;32m~\\anaconda3\\lib\\site-packages\\pandas\\core\\frame.py\u001b[0m in \u001b[0;36m__getitem__\u001b[1;34m(self, key)\u001b[0m\n\u001b[0;32m   2798\u001b[0m             \u001b[1;32mif\u001b[0m \u001b[0mself\u001b[0m\u001b[1;33m.\u001b[0m\u001b[0mcolumns\u001b[0m\u001b[1;33m.\u001b[0m\u001b[0mnlevels\u001b[0m \u001b[1;33m>\u001b[0m \u001b[1;36m1\u001b[0m\u001b[1;33m:\u001b[0m\u001b[1;33m\u001b[0m\u001b[1;33m\u001b[0m\u001b[0m\n\u001b[0;32m   2799\u001b[0m                 \u001b[1;32mreturn\u001b[0m \u001b[0mself\u001b[0m\u001b[1;33m.\u001b[0m\u001b[0m_getitem_multilevel\u001b[0m\u001b[1;33m(\u001b[0m\u001b[0mkey\u001b[0m\u001b[1;33m)\u001b[0m\u001b[1;33m\u001b[0m\u001b[1;33m\u001b[0m\u001b[0m\n\u001b[1;32m-> 2800\u001b[1;33m             \u001b[0mindexer\u001b[0m \u001b[1;33m=\u001b[0m \u001b[0mself\u001b[0m\u001b[1;33m.\u001b[0m\u001b[0mcolumns\u001b[0m\u001b[1;33m.\u001b[0m\u001b[0mget_loc\u001b[0m\u001b[1;33m(\u001b[0m\u001b[0mkey\u001b[0m\u001b[1;33m)\u001b[0m\u001b[1;33m\u001b[0m\u001b[1;33m\u001b[0m\u001b[0m\n\u001b[0m\u001b[0;32m   2801\u001b[0m             \u001b[1;32mif\u001b[0m \u001b[0mis_integer\u001b[0m\u001b[1;33m(\u001b[0m\u001b[0mindexer\u001b[0m\u001b[1;33m)\u001b[0m\u001b[1;33m:\u001b[0m\u001b[1;33m\u001b[0m\u001b[1;33m\u001b[0m\u001b[0m\n\u001b[0;32m   2802\u001b[0m                 \u001b[0mindexer\u001b[0m \u001b[1;33m=\u001b[0m \u001b[1;33m[\u001b[0m\u001b[0mindexer\u001b[0m\u001b[1;33m]\u001b[0m\u001b[1;33m\u001b[0m\u001b[1;33m\u001b[0m\u001b[0m\n",
      "\u001b[1;32m~\\anaconda3\\lib\\site-packages\\pandas\\core\\indexes\\base.py\u001b[0m in \u001b[0;36mget_loc\u001b[1;34m(self, key, method, tolerance)\u001b[0m\n\u001b[0;32m   2644\u001b[0m                 )\n\u001b[0;32m   2645\u001b[0m             \u001b[1;32mtry\u001b[0m\u001b[1;33m:\u001b[0m\u001b[1;33m\u001b[0m\u001b[1;33m\u001b[0m\u001b[0m\n\u001b[1;32m-> 2646\u001b[1;33m                 \u001b[1;32mreturn\u001b[0m \u001b[0mself\u001b[0m\u001b[1;33m.\u001b[0m\u001b[0m_engine\u001b[0m\u001b[1;33m.\u001b[0m\u001b[0mget_loc\u001b[0m\u001b[1;33m(\u001b[0m\u001b[0mkey\u001b[0m\u001b[1;33m)\u001b[0m\u001b[1;33m\u001b[0m\u001b[1;33m\u001b[0m\u001b[0m\n\u001b[0m\u001b[0;32m   2647\u001b[0m             \u001b[1;32mexcept\u001b[0m \u001b[0mKeyError\u001b[0m\u001b[1;33m:\u001b[0m\u001b[1;33m\u001b[0m\u001b[1;33m\u001b[0m\u001b[0m\n\u001b[0;32m   2648\u001b[0m                 \u001b[1;32mreturn\u001b[0m \u001b[0mself\u001b[0m\u001b[1;33m.\u001b[0m\u001b[0m_engine\u001b[0m\u001b[1;33m.\u001b[0m\u001b[0mget_loc\u001b[0m\u001b[1;33m(\u001b[0m\u001b[0mself\u001b[0m\u001b[1;33m.\u001b[0m\u001b[0m_maybe_cast_indexer\u001b[0m\u001b[1;33m(\u001b[0m\u001b[0mkey\u001b[0m\u001b[1;33m)\u001b[0m\u001b[1;33m)\u001b[0m\u001b[1;33m\u001b[0m\u001b[1;33m\u001b[0m\u001b[0m\n",
      "\u001b[1;32mpandas\\_libs\\index.pyx\u001b[0m in \u001b[0;36mpandas._libs.index.IndexEngine.get_loc\u001b[1;34m()\u001b[0m\n",
      "\u001b[1;32mpandas\\_libs\\index.pyx\u001b[0m in \u001b[0;36mpandas._libs.index.IndexEngine.get_loc\u001b[1;34m()\u001b[0m\n",
      "\u001b[1;31mTypeError\u001b[0m: '(array([ True,  True,  True,  True,  True,  True,  True,  True,  True,\n        True,  True,  True,  True,  True,  True,  True,  True,  True,\n        True,  True,  True,  True,  True, False,  True,  True,  True,\n        True,  True,  True,  True,  True,  True,  True,  True,  True,\n        True,  True,  True,  True,  True,  True,  True,  True,  True,\n        True,  True,  True,  True,  True,  True,  True,  True,  True,\n        True,  True,  True,  True,  True,  True,  True,  True,  True,\n        True,  True,  True,  True,  True,  True,  True,  True,  True,\n        True,  True,  True,  True,  True,  True,  True,  True,  True,\n        True,  True,  True,  True,  True,  True,  True,  True,  True,\n        True,  True,  True,  True,  True,  True,  True,  True,  True,\n        True,  True,  True,  True,  True,  True,  True,  True,  True,\n        True,  True,  True,  True,  True,  True,  True,  True,  True,\n        True,  True,  True,  True,  True,  True,  True,  True,  True,\n        True,  True,  True,  True,  True,  True,  True,  True,  True,\n        True,  True,  True,  True,  True,  True,  True,  True,  True,\n        True,  True,  True,  True,  True,  True,  True,  True,  True,\n        True,  True,  True,  True,  True,  True,  True,  True,  True,\n        True,  True,  True,  True,  True,  True,  True,  True,  True,\n        True,  True,  True, False,  True,  True,  True,  True,  True,\n        True,  True,  True,  True,  True,  True,  True,  True]), 0)' is an invalid key"
     ]
    }
   ],
   "source": [
    "plt.scatter(df[labels==0, 0], df[labels==0, 1], s=50, marker='o', color='red')\n",
    "plt.scatter(df[labels==1, 0], df[labels==1, 1], s=50, marker='o', color='blue')\n",
    "plt.scatter(df[labels==2, 0], df[labels==2, 1], s=50, marker='o', color='green')"
   ]
  },
  {
   "cell_type": "code",
   "execution_count": 70,
   "metadata": {},
   "outputs": [
    {
     "data": {
      "text/html": [
       "<div>\n",
       "<style scoped>\n",
       "    .dataframe tbody tr th:only-of-type {\n",
       "        vertical-align: middle;\n",
       "    }\n",
       "\n",
       "    .dataframe tbody tr th {\n",
       "        vertical-align: top;\n",
       "    }\n",
       "\n",
       "    .dataframe thead th {\n",
       "        text-align: right;\n",
       "    }\n",
       "</style>\n",
       "<table border=\"1\" class=\"dataframe\">\n",
       "  <thead>\n",
       "    <tr style=\"text-align: right;\">\n",
       "      <th></th>\n",
       "      <th>Confirmed</th>\n",
       "      <th>Deaths</th>\n",
       "      <th>Recovered</th>\n",
       "      <th>Active</th>\n",
       "      <th>Incidence_Rate</th>\n",
       "      <th>Case-Fatality_Ratio</th>\n",
       "    </tr>\n",
       "  </thead>\n",
       "  <tbody>\n",
       "    <tr>\n",
       "      <th>0</th>\n",
       "      <td>34451.0</td>\n",
       "      <td>1010.0</td>\n",
       "      <td>21216.0</td>\n",
       "      <td>12225.0</td>\n",
       "      <td>88.498505</td>\n",
       "      <td>2.931700</td>\n",
       "    </tr>\n",
       "    <tr>\n",
       "      <th>1</th>\n",
       "      <td>3454.0</td>\n",
       "      <td>93.0</td>\n",
       "      <td>1946.0</td>\n",
       "      <td>1415.0</td>\n",
       "      <td>120.022239</td>\n",
       "      <td>2.692530</td>\n",
       "    </tr>\n",
       "    <tr>\n",
       "      <th>2</th>\n",
       "      <td>19195.0</td>\n",
       "      <td>1011.0</td>\n",
       "      <td>13743.0</td>\n",
       "      <td>4441.0</td>\n",
       "      <td>43.773189</td>\n",
       "      <td>5.266997</td>\n",
       "    </tr>\n",
       "    <tr>\n",
       "      <th>3</th>\n",
       "      <td>855.0</td>\n",
       "      <td>52.0</td>\n",
       "      <td>803.0</td>\n",
       "      <td>0.0</td>\n",
       "      <td>1106.581246</td>\n",
       "      <td>6.081871</td>\n",
       "    </tr>\n",
       "    <tr>\n",
       "      <th>4</th>\n",
       "      <td>506.0</td>\n",
       "      <td>26.0</td>\n",
       "      <td>118.0</td>\n",
       "      <td>362.0</td>\n",
       "      <td>1.539572</td>\n",
       "      <td>5.138340</td>\n",
       "    </tr>\n",
       "  </tbody>\n",
       "</table>\n",
       "</div>"
      ],
      "text/plain": [
       "   Confirmed  Deaths  Recovered   Active  Incidence_Rate  Case-Fatality_Ratio\n",
       "0    34451.0  1010.0    21216.0  12225.0       88.498505             2.931700\n",
       "1     3454.0    93.0     1946.0   1415.0      120.022239             2.692530\n",
       "2    19195.0  1011.0    13743.0   4441.0       43.773189             5.266997\n",
       "3      855.0    52.0      803.0      0.0     1106.581246             6.081871\n",
       "4      506.0    26.0      118.0    362.0        1.539572             5.138340"
      ]
     },
     "execution_count": 70,
     "metadata": {},
     "output_type": "execute_result"
    }
   ],
   "source": [
    "df.head()"
   ]
  },
  {
   "cell_type": "code",
   "execution_count": 71,
   "metadata": {},
   "outputs": [
    {
     "data": {
      "text/html": [
       "<div>\n",
       "<style scoped>\n",
       "    .dataframe tbody tr th:only-of-type {\n",
       "        vertical-align: middle;\n",
       "    }\n",
       "\n",
       "    .dataframe tbody tr th {\n",
       "        vertical-align: top;\n",
       "    }\n",
       "\n",
       "    .dataframe thead th {\n",
       "        text-align: right;\n",
       "    }\n",
       "</style>\n",
       "<table border=\"1\" class=\"dataframe\">\n",
       "  <thead>\n",
       "    <tr style=\"text-align: right;\">\n",
       "      <th></th>\n",
       "      <th>Country_Region</th>\n",
       "      <th>Confirmed</th>\n",
       "      <th>Deaths</th>\n",
       "      <th>Recovered</th>\n",
       "      <th>Active</th>\n",
       "      <th>Incidence_Rate</th>\n",
       "      <th>Case-Fatality_Ratio</th>\n",
       "    </tr>\n",
       "  </thead>\n",
       "  <tbody>\n",
       "    <tr>\n",
       "      <th>0</th>\n",
       "      <td>Afghanistan</td>\n",
       "      <td>34451.0</td>\n",
       "      <td>1010.0</td>\n",
       "      <td>21216.0</td>\n",
       "      <td>12225.0</td>\n",
       "      <td>88.498505</td>\n",
       "      <td>2.931700</td>\n",
       "    </tr>\n",
       "    <tr>\n",
       "      <th>1</th>\n",
       "      <td>Albania</td>\n",
       "      <td>3454.0</td>\n",
       "      <td>93.0</td>\n",
       "      <td>1946.0</td>\n",
       "      <td>1415.0</td>\n",
       "      <td>120.022239</td>\n",
       "      <td>2.692530</td>\n",
       "    </tr>\n",
       "    <tr>\n",
       "      <th>2</th>\n",
       "      <td>Algeria</td>\n",
       "      <td>19195.0</td>\n",
       "      <td>1011.0</td>\n",
       "      <td>13743.0</td>\n",
       "      <td>4441.0</td>\n",
       "      <td>43.773189</td>\n",
       "      <td>5.266997</td>\n",
       "    </tr>\n",
       "    <tr>\n",
       "      <th>3</th>\n",
       "      <td>Andorra</td>\n",
       "      <td>855.0</td>\n",
       "      <td>52.0</td>\n",
       "      <td>803.0</td>\n",
       "      <td>0.0</td>\n",
       "      <td>1106.581246</td>\n",
       "      <td>6.081871</td>\n",
       "    </tr>\n",
       "    <tr>\n",
       "      <th>4</th>\n",
       "      <td>Angola</td>\n",
       "      <td>506.0</td>\n",
       "      <td>26.0</td>\n",
       "      <td>118.0</td>\n",
       "      <td>362.0</td>\n",
       "      <td>1.539572</td>\n",
       "      <td>5.138340</td>\n",
       "    </tr>\n",
       "  </tbody>\n",
       "</table>\n",
       "</div>"
      ],
      "text/plain": [
       "  Country_Region  Confirmed  Deaths  Recovered   Active  Incidence_Rate  \\\n",
       "0    Afghanistan    34451.0  1010.0    21216.0  12225.0       88.498505   \n",
       "1        Albania     3454.0    93.0     1946.0   1415.0      120.022239   \n",
       "2        Algeria    19195.0  1011.0    13743.0   4441.0       43.773189   \n",
       "3        Andorra      855.0    52.0      803.0      0.0     1106.581246   \n",
       "4         Angola      506.0    26.0      118.0    362.0        1.539572   \n",
       "\n",
       "   Case-Fatality_Ratio  \n",
       "0             2.931700  \n",
       "1             2.692530  \n",
       "2             5.266997  \n",
       "3             6.081871  \n",
       "4             5.138340  "
      ]
     },
     "execution_count": 71,
     "metadata": {},
     "output_type": "execute_result"
    }
   ],
   "source": [
    "grouped_data.head()\n",
    "  "
   ]
  },
  {
   "cell_type": "code",
   "execution_count": 76,
   "metadata": {},
   "outputs": [],
   "source": [
    "grouped_data.sort_values([\"Confirmed\"], axis=0, \n",
    "                 ascending=False, inplace=True) "
   ]
  },
  {
   "cell_type": "code",
   "execution_count": 77,
   "metadata": {},
   "outputs": [
    {
     "data": {
      "text/html": [
       "<div>\n",
       "<style scoped>\n",
       "    .dataframe tbody tr th:only-of-type {\n",
       "        vertical-align: middle;\n",
       "    }\n",
       "\n",
       "    .dataframe tbody tr th {\n",
       "        vertical-align: top;\n",
       "    }\n",
       "\n",
       "    .dataframe thead th {\n",
       "        text-align: right;\n",
       "    }\n",
       "</style>\n",
       "<table border=\"1\" class=\"dataframe\">\n",
       "  <thead>\n",
       "    <tr style=\"text-align: right;\">\n",
       "      <th></th>\n",
       "      <th>Country_Region</th>\n",
       "      <th>Confirmed</th>\n",
       "      <th>Deaths</th>\n",
       "      <th>Recovered</th>\n",
       "      <th>Active</th>\n",
       "      <th>Incidence_Rate</th>\n",
       "      <th>Case-Fatality_Ratio</th>\n",
       "    </tr>\n",
       "  </thead>\n",
       "  <tbody>\n",
       "    <tr>\n",
       "      <th>174</th>\n",
       "      <td>US</td>\n",
       "      <td>3304942.0</td>\n",
       "      <td>135205.0</td>\n",
       "      <td>1006326.0</td>\n",
       "      <td>2208772.0</td>\n",
       "      <td>2.027605e+06</td>\n",
       "      <td>10546.526615</td>\n",
       "    </tr>\n",
       "    <tr>\n",
       "      <th>23</th>\n",
       "      <td>Brazil</td>\n",
       "      <td>1864681.0</td>\n",
       "      <td>72100.0</td>\n",
       "      <td>1264843.0</td>\n",
       "      <td>527738.0</td>\n",
       "      <td>3.511238e+04</td>\n",
       "      <td>82.765642</td>\n",
       "    </tr>\n",
       "    <tr>\n",
       "      <th>79</th>\n",
       "      <td>India</td>\n",
       "      <td>878254.0</td>\n",
       "      <td>23174.0</td>\n",
       "      <td>553471.0</td>\n",
       "      <td>301609.0</td>\n",
       "      <td>2.730168e+03</td>\n",
       "      <td>44.519569</td>\n",
       "    </tr>\n",
       "    <tr>\n",
       "      <th>140</th>\n",
       "      <td>Russia</td>\n",
       "      <td>726036.0</td>\n",
       "      <td>11318.0</td>\n",
       "      <td>500208.0</td>\n",
       "      <td>214510.0</td>\n",
       "      <td>3.776617e+04</td>\n",
       "      <td>90.606512</td>\n",
       "    </tr>\n",
       "    <tr>\n",
       "      <th>134</th>\n",
       "      <td>Peru</td>\n",
       "      <td>326326.0</td>\n",
       "      <td>11870.0</td>\n",
       "      <td>217111.0</td>\n",
       "      <td>97345.0</td>\n",
       "      <td>1.875724e+04</td>\n",
       "      <td>84.934502</td>\n",
       "    </tr>\n",
       "  </tbody>\n",
       "</table>\n",
       "</div>"
      ],
      "text/plain": [
       "    Country_Region  Confirmed    Deaths  Recovered     Active  Incidence_Rate  \\\n",
       "174             US  3304942.0  135205.0  1006326.0  2208772.0    2.027605e+06   \n",
       "23          Brazil  1864681.0   72100.0  1264843.0   527738.0    3.511238e+04   \n",
       "79           India   878254.0   23174.0   553471.0   301609.0    2.730168e+03   \n",
       "140         Russia   726036.0   11318.0   500208.0   214510.0    3.776617e+04   \n",
       "134           Peru   326326.0   11870.0   217111.0    97345.0    1.875724e+04   \n",
       "\n",
       "     Case-Fatality_Ratio  \n",
       "174         10546.526615  \n",
       "23             82.765642  \n",
       "79             44.519569  \n",
       "140            90.606512  \n",
       "134            84.934502  "
      ]
     },
     "execution_count": 77,
     "metadata": {},
     "output_type": "execute_result"
    }
   ],
   "source": [
    "grouped_data.head()"
   ]
  },
  {
   "cell_type": "code",
   "execution_count": 78,
   "metadata": {},
   "outputs": [],
   "source": [
    "gd_30 = grouped_data.head(30)"
   ]
  },
  {
   "cell_type": "code",
   "execution_count": 79,
   "metadata": {},
   "outputs": [
    {
     "data": {
      "text/html": [
       "<div>\n",
       "<style scoped>\n",
       "    .dataframe tbody tr th:only-of-type {\n",
       "        vertical-align: middle;\n",
       "    }\n",
       "\n",
       "    .dataframe tbody tr th {\n",
       "        vertical-align: top;\n",
       "    }\n",
       "\n",
       "    .dataframe thead th {\n",
       "        text-align: right;\n",
       "    }\n",
       "</style>\n",
       "<table border=\"1\" class=\"dataframe\">\n",
       "  <thead>\n",
       "    <tr style=\"text-align: right;\">\n",
       "      <th></th>\n",
       "      <th>index</th>\n",
       "      <th>Country_Region</th>\n",
       "      <th>Confirmed</th>\n",
       "      <th>Deaths</th>\n",
       "      <th>Recovered</th>\n",
       "      <th>Active</th>\n",
       "      <th>Incidence_Rate</th>\n",
       "      <th>Case-Fatality_Ratio</th>\n",
       "    </tr>\n",
       "  </thead>\n",
       "  <tbody>\n",
       "    <tr>\n",
       "      <th>0</th>\n",
       "      <td>174</td>\n",
       "      <td>US</td>\n",
       "      <td>3304942.0</td>\n",
       "      <td>135205.0</td>\n",
       "      <td>1006326.0</td>\n",
       "      <td>2208772.0</td>\n",
       "      <td>2.027605e+06</td>\n",
       "      <td>10546.526615</td>\n",
       "    </tr>\n",
       "    <tr>\n",
       "      <th>1</th>\n",
       "      <td>23</td>\n",
       "      <td>Brazil</td>\n",
       "      <td>1864681.0</td>\n",
       "      <td>72100.0</td>\n",
       "      <td>1264843.0</td>\n",
       "      <td>527738.0</td>\n",
       "      <td>3.511238e+04</td>\n",
       "      <td>82.765642</td>\n",
       "    </tr>\n",
       "    <tr>\n",
       "      <th>2</th>\n",
       "      <td>79</td>\n",
       "      <td>India</td>\n",
       "      <td>878254.0</td>\n",
       "      <td>23174.0</td>\n",
       "      <td>553471.0</td>\n",
       "      <td>301609.0</td>\n",
       "      <td>2.730168e+03</td>\n",
       "      <td>44.519569</td>\n",
       "    </tr>\n",
       "    <tr>\n",
       "      <th>3</th>\n",
       "      <td>140</td>\n",
       "      <td>Russia</td>\n",
       "      <td>726036.0</td>\n",
       "      <td>11318.0</td>\n",
       "      <td>500208.0</td>\n",
       "      <td>214510.0</td>\n",
       "      <td>3.776617e+04</td>\n",
       "      <td>90.606512</td>\n",
       "    </tr>\n",
       "    <tr>\n",
       "      <th>4</th>\n",
       "      <td>134</td>\n",
       "      <td>Peru</td>\n",
       "      <td>326326.0</td>\n",
       "      <td>11870.0</td>\n",
       "      <td>217111.0</td>\n",
       "      <td>97345.0</td>\n",
       "      <td>1.875724e+04</td>\n",
       "      <td>84.934502</td>\n",
       "    </tr>\n",
       "    <tr>\n",
       "      <th>5</th>\n",
       "      <td>35</td>\n",
       "      <td>Chile</td>\n",
       "      <td>315041.0</td>\n",
       "      <td>6979.0</td>\n",
       "      <td>283902.0</td>\n",
       "      <td>24160.0</td>\n",
       "      <td>1.501846e+04</td>\n",
       "      <td>20.571902</td>\n",
       "    </tr>\n",
       "    <tr>\n",
       "      <th>6</th>\n",
       "      <td>113</td>\n",
       "      <td>Mexico</td>\n",
       "      <td>299750.0</td>\n",
       "      <td>35006.0</td>\n",
       "      <td>234905.0</td>\n",
       "      <td>29839.0</td>\n",
       "      <td>7.244229e+03</td>\n",
       "      <td>360.251745</td>\n",
       "    </tr>\n",
       "    <tr>\n",
       "      <th>7</th>\n",
       "      <td>178</td>\n",
       "      <td>United Kingdom</td>\n",
       "      <td>291154.0</td>\n",
       "      <td>44904.0</td>\n",
       "      <td>1378.0</td>\n",
       "      <td>244872.0</td>\n",
       "      <td>4.254779e+03</td>\n",
       "      <td>94.203209</td>\n",
       "    </tr>\n",
       "    <tr>\n",
       "      <th>8</th>\n",
       "      <td>156</td>\n",
       "      <td>South Africa</td>\n",
       "      <td>276242.0</td>\n",
       "      <td>4079.0</td>\n",
       "      <td>134874.0</td>\n",
       "      <td>137289.0</td>\n",
       "      <td>4.657699e+02</td>\n",
       "      <td>1.476604</td>\n",
       "    </tr>\n",
       "    <tr>\n",
       "      <th>9</th>\n",
       "      <td>81</td>\n",
       "      <td>Iran</td>\n",
       "      <td>257303.0</td>\n",
       "      <td>12829.0</td>\n",
       "      <td>219993.0</td>\n",
       "      <td>24481.0</td>\n",
       "      <td>3.063388e+02</td>\n",
       "      <td>4.985950</td>\n",
       "    </tr>\n",
       "    <tr>\n",
       "      <th>10</th>\n",
       "      <td>158</td>\n",
       "      <td>Spain</td>\n",
       "      <td>253908.0</td>\n",
       "      <td>28403.0</td>\n",
       "      <td>150376.0</td>\n",
       "      <td>75130.0</td>\n",
       "      <td>9.391661e+03</td>\n",
       "      <td>192.877092</td>\n",
       "    </tr>\n",
       "    <tr>\n",
       "      <th>11</th>\n",
       "      <td>130</td>\n",
       "      <td>Pakistan</td>\n",
       "      <td>251625.0</td>\n",
       "      <td>5266.0</td>\n",
       "      <td>161917.0</td>\n",
       "      <td>84442.0</td>\n",
       "      <td>1.397467e+03</td>\n",
       "      <td>14.735591</td>\n",
       "    </tr>\n",
       "    <tr>\n",
       "      <th>12</th>\n",
       "      <td>85</td>\n",
       "      <td>Italy</td>\n",
       "      <td>243061.0</td>\n",
       "      <td>34954.0</td>\n",
       "      <td>194928.0</td>\n",
       "      <td>13179.0</td>\n",
       "      <td>7.891031e+03</td>\n",
       "      <td>228.057272</td>\n",
       "    </tr>\n",
       "    <tr>\n",
       "      <th>13</th>\n",
       "      <td>147</td>\n",
       "      <td>Saudi Arabia</td>\n",
       "      <td>232259.0</td>\n",
       "      <td>2223.0</td>\n",
       "      <td>167138.0</td>\n",
       "      <td>62898.0</td>\n",
       "      <td>6.671451e+02</td>\n",
       "      <td>0.957121</td>\n",
       "    </tr>\n",
       "    <tr>\n",
       "      <th>14</th>\n",
       "      <td>173</td>\n",
       "      <td>Turkey</td>\n",
       "      <td>212993.0</td>\n",
       "      <td>5363.0</td>\n",
       "      <td>194515.0</td>\n",
       "      <td>13115.0</td>\n",
       "      <td>2.525437e+02</td>\n",
       "      <td>2.517923</td>\n",
       "    </tr>\n",
       "    <tr>\n",
       "      <th>15</th>\n",
       "      <td>62</td>\n",
       "      <td>France</td>\n",
       "      <td>208015.0</td>\n",
       "      <td>30007.0</td>\n",
       "      <td>78513.0</td>\n",
       "      <td>99495.0</td>\n",
       "      <td>3.706629e+03</td>\n",
       "      <td>37.626886</td>\n",
       "    </tr>\n",
       "    <tr>\n",
       "      <th>16</th>\n",
       "      <td>66</td>\n",
       "      <td>Germany</td>\n",
       "      <td>199919.0</td>\n",
       "      <td>9071.0</td>\n",
       "      <td>184414.0</td>\n",
       "      <td>6434.0</td>\n",
       "      <td>3.205570e+03</td>\n",
       "      <td>68.837066</td>\n",
       "    </tr>\n",
       "    <tr>\n",
       "      <th>17</th>\n",
       "      <td>13</td>\n",
       "      <td>Bangladesh</td>\n",
       "      <td>183795.0</td>\n",
       "      <td>2352.0</td>\n",
       "      <td>93614.0</td>\n",
       "      <td>87829.0</td>\n",
       "      <td>1.116010e+02</td>\n",
       "      <td>1.279687</td>\n",
       "    </tr>\n",
       "    <tr>\n",
       "      <th>18</th>\n",
       "      <td>37</td>\n",
       "      <td>Colombia</td>\n",
       "      <td>145362.0</td>\n",
       "      <td>5426.0</td>\n",
       "      <td>61186.0</td>\n",
       "      <td>78750.0</td>\n",
       "      <td>8.654089e+03</td>\n",
       "      <td>121.484176</td>\n",
       "    </tr>\n",
       "    <tr>\n",
       "      <th>19</th>\n",
       "      <td>32</td>\n",
       "      <td>Canada</td>\n",
       "      <td>109348.0</td>\n",
       "      <td>8829.0</td>\n",
       "      <td>72954.0</td>\n",
       "      <td>27566.0</td>\n",
       "      <td>1.510668e+03</td>\n",
       "      <td>37.378949</td>\n",
       "    </tr>\n",
       "    <tr>\n",
       "      <th>20</th>\n",
       "      <td>138</td>\n",
       "      <td>Qatar</td>\n",
       "      <td>103598.0</td>\n",
       "      <td>147.0</td>\n",
       "      <td>99743.0</td>\n",
       "      <td>3708.0</td>\n",
       "      <td>3.595829e+03</td>\n",
       "      <td>0.141895</td>\n",
       "    </tr>\n",
       "    <tr>\n",
       "      <th>21</th>\n",
       "      <td>6</td>\n",
       "      <td>Argentina</td>\n",
       "      <td>100166.0</td>\n",
       "      <td>1845.0</td>\n",
       "      <td>42694.0</td>\n",
       "      <td>55627.0</td>\n",
       "      <td>2.216269e+02</td>\n",
       "      <td>1.841942</td>\n",
       "    </tr>\n",
       "    <tr>\n",
       "      <th>22</th>\n",
       "      <td>36</td>\n",
       "      <td>China</td>\n",
       "      <td>85117.0</td>\n",
       "      <td>4641.0</td>\n",
       "      <td>79907.0</td>\n",
       "      <td>569.0</td>\n",
       "      <td>1.773688e+02</td>\n",
       "      <td>35.402961</td>\n",
       "    </tr>\n",
       "    <tr>\n",
       "      <th>23</th>\n",
       "      <td>53</td>\n",
       "      <td>Egypt</td>\n",
       "      <td>82070.0</td>\n",
       "      <td>3858.0</td>\n",
       "      <td>24419.0</td>\n",
       "      <td>53793.0</td>\n",
       "      <td>8.019786e+01</td>\n",
       "      <td>4.700865</td>\n",
       "    </tr>\n",
       "    <tr>\n",
       "      <th>24</th>\n",
       "      <td>82</td>\n",
       "      <td>Iraq</td>\n",
       "      <td>77506.0</td>\n",
       "      <td>3150.0</td>\n",
       "      <td>44724.0</td>\n",
       "      <td>29632.0</td>\n",
       "      <td>1.926931e+02</td>\n",
       "      <td>4.064201</td>\n",
       "    </tr>\n",
       "    <tr>\n",
       "      <th>25</th>\n",
       "      <td>80</td>\n",
       "      <td>Indonesia</td>\n",
       "      <td>75699.0</td>\n",
       "      <td>3606.0</td>\n",
       "      <td>35638.0</td>\n",
       "      <td>36455.0</td>\n",
       "      <td>2.767549e+01</td>\n",
       "      <td>4.763603</td>\n",
       "    </tr>\n",
       "    <tr>\n",
       "      <th>26</th>\n",
       "      <td>162</td>\n",
       "      <td>Sweden</td>\n",
       "      <td>74898.0</td>\n",
       "      <td>5526.0</td>\n",
       "      <td>0.0</td>\n",
       "      <td>69372.0</td>\n",
       "      <td>1.365774e+04</td>\n",
       "      <td>135.680241</td>\n",
       "    </tr>\n",
       "    <tr>\n",
       "      <th>27</th>\n",
       "      <td>52</td>\n",
       "      <td>Ecuador</td>\n",
       "      <td>67870.0</td>\n",
       "      <td>5047.0</td>\n",
       "      <td>30283.0</td>\n",
       "      <td>32540.0</td>\n",
       "      <td>3.846838e+02</td>\n",
       "      <td>7.436275</td>\n",
       "    </tr>\n",
       "    <tr>\n",
       "      <th>28</th>\n",
       "      <td>15</td>\n",
       "      <td>Belarus</td>\n",
       "      <td>64932.0</td>\n",
       "      <td>464.0</td>\n",
       "      <td>55380.0</td>\n",
       "      <td>9088.0</td>\n",
       "      <td>6.871605e+02</td>\n",
       "      <td>0.714594</td>\n",
       "    </tr>\n",
       "    <tr>\n",
       "      <th>29</th>\n",
       "      <td>16</td>\n",
       "      <td>Belgium</td>\n",
       "      <td>62707.0</td>\n",
       "      <td>9782.0</td>\n",
       "      <td>17196.0</td>\n",
       "      <td>35729.0</td>\n",
       "      <td>5.410619e+02</td>\n",
       "      <td>15.599534</td>\n",
       "    </tr>\n",
       "  </tbody>\n",
       "</table>\n",
       "</div>"
      ],
      "text/plain": [
       "    index  Country_Region  Confirmed    Deaths  Recovered     Active  \\\n",
       "0     174              US  3304942.0  135205.0  1006326.0  2208772.0   \n",
       "1      23          Brazil  1864681.0   72100.0  1264843.0   527738.0   \n",
       "2      79           India   878254.0   23174.0   553471.0   301609.0   \n",
       "3     140          Russia   726036.0   11318.0   500208.0   214510.0   \n",
       "4     134            Peru   326326.0   11870.0   217111.0    97345.0   \n",
       "5      35           Chile   315041.0    6979.0   283902.0    24160.0   \n",
       "6     113          Mexico   299750.0   35006.0   234905.0    29839.0   \n",
       "7     178  United Kingdom   291154.0   44904.0     1378.0   244872.0   \n",
       "8     156    South Africa   276242.0    4079.0   134874.0   137289.0   \n",
       "9      81            Iran   257303.0   12829.0   219993.0    24481.0   \n",
       "10    158           Spain   253908.0   28403.0   150376.0    75130.0   \n",
       "11    130        Pakistan   251625.0    5266.0   161917.0    84442.0   \n",
       "12     85           Italy   243061.0   34954.0   194928.0    13179.0   \n",
       "13    147    Saudi Arabia   232259.0    2223.0   167138.0    62898.0   \n",
       "14    173          Turkey   212993.0    5363.0   194515.0    13115.0   \n",
       "15     62          France   208015.0   30007.0    78513.0    99495.0   \n",
       "16     66         Germany   199919.0    9071.0   184414.0     6434.0   \n",
       "17     13      Bangladesh   183795.0    2352.0    93614.0    87829.0   \n",
       "18     37        Colombia   145362.0    5426.0    61186.0    78750.0   \n",
       "19     32          Canada   109348.0    8829.0    72954.0    27566.0   \n",
       "20    138           Qatar   103598.0     147.0    99743.0     3708.0   \n",
       "21      6       Argentina   100166.0    1845.0    42694.0    55627.0   \n",
       "22     36           China    85117.0    4641.0    79907.0      569.0   \n",
       "23     53           Egypt    82070.0    3858.0    24419.0    53793.0   \n",
       "24     82            Iraq    77506.0    3150.0    44724.0    29632.0   \n",
       "25     80       Indonesia    75699.0    3606.0    35638.0    36455.0   \n",
       "26    162          Sweden    74898.0    5526.0        0.0    69372.0   \n",
       "27     52         Ecuador    67870.0    5047.0    30283.0    32540.0   \n",
       "28     15         Belarus    64932.0     464.0    55380.0     9088.0   \n",
       "29     16         Belgium    62707.0    9782.0    17196.0    35729.0   \n",
       "\n",
       "    Incidence_Rate  Case-Fatality_Ratio  \n",
       "0     2.027605e+06         10546.526615  \n",
       "1     3.511238e+04            82.765642  \n",
       "2     2.730168e+03            44.519569  \n",
       "3     3.776617e+04            90.606512  \n",
       "4     1.875724e+04            84.934502  \n",
       "5     1.501846e+04            20.571902  \n",
       "6     7.244229e+03           360.251745  \n",
       "7     4.254779e+03            94.203209  \n",
       "8     4.657699e+02             1.476604  \n",
       "9     3.063388e+02             4.985950  \n",
       "10    9.391661e+03           192.877092  \n",
       "11    1.397467e+03            14.735591  \n",
       "12    7.891031e+03           228.057272  \n",
       "13    6.671451e+02             0.957121  \n",
       "14    2.525437e+02             2.517923  \n",
       "15    3.706629e+03            37.626886  \n",
       "16    3.205570e+03            68.837066  \n",
       "17    1.116010e+02             1.279687  \n",
       "18    8.654089e+03           121.484176  \n",
       "19    1.510668e+03            37.378949  \n",
       "20    3.595829e+03             0.141895  \n",
       "21    2.216269e+02             1.841942  \n",
       "22    1.773688e+02            35.402961  \n",
       "23    8.019786e+01             4.700865  \n",
       "24    1.926931e+02             4.064201  \n",
       "25    2.767549e+01             4.763603  \n",
       "26    1.365774e+04           135.680241  \n",
       "27    3.846838e+02             7.436275  \n",
       "28    6.871605e+02             0.714594  \n",
       "29    5.410619e+02            15.599534  "
      ]
     },
     "execution_count": 79,
     "metadata": {},
     "output_type": "execute_result"
    }
   ],
   "source": [
    "gd_30.reset_index()"
   ]
  },
  {
   "cell_type": "code",
   "execution_count": 82,
   "metadata": {},
   "outputs": [],
   "source": [
    "df_30 = pd.DataFrame(gd_30, columns=['Confirmed','Deaths','Recovered','Active','Incidence_Rate','Case-Fatality_Ratio'])"
   ]
  },
  {
   "cell_type": "code",
   "execution_count": 85,
   "metadata": {},
   "outputs": [
    {
     "data": {
      "image/png": "[encoded data removed]",
      "text/plain": [
       "<Figure size 432x288 with 1 Axes>"
      ]
     },
     "metadata": {
      "needs_background": "light"
     },
     "output_type": "display_data"
    }
   ],
   "source": [
    "dendrogram = sch.dendrogram(sch.linkage(df_30, method  = \"ward\"))\n",
    "#plt.figure(figsize=(16,8))\n",
    "plt.title('Dendrogram')\n",
    "plt.xlabel('Country_Region')\n",
    "plt.ylabel('Euclidean distances')\n",
    "plt.show()"
   ]
  },
  {
   "cell_type": "code",
   "execution_count": 86,
   "metadata": {},
   "outputs": [
    {
     "data": {
      "text/plain": [
       "array([3, 2, 4, 4, 0, 0, 0, 0, 0, 0, 0, 0, 0, 0, 0, 1, 0, 1, 1, 1, 1, 1,\n",
       "       1, 1, 1, 1, 1, 1, 1, 1], dtype=int64)"
      ]
     },
     "execution_count": 86,
     "metadata": {},
     "output_type": "execute_result"
    }
   ],
   "source": [
    "from sklearn.cluster import AgglomerativeClustering\n",
    "\n",
    "cluster = AgglomerativeClustering(n_clusters=5, affinity='euclidean', linkage='ward')\n",
    "cluster.fit_predict(df_30)"
   ]
  },
  {
   "cell_type": "code",
   "execution_count": 87,
   "metadata": {},
   "outputs": [
    {
     "name": "stdout",
     "output_type": "stream",
     "text": [
      "[3 2 4 4 0 0 0 0 0 0 0 0 0 0 0 1 0 1 1 1 1 1 1 1 1 1 1 1 1 1]\n"
     ]
    }
   ],
   "source": [
    "print(cluster.labels_)"
   ]
  },
  {
   "cell_type": "code",
   "execution_count": 104,
   "metadata": {},
   "outputs": [],
   "source": [
    "agglomerative = pd.DataFrame(cluster.labels_)"
   ]
  },
  {
   "cell_type": "code",
   "execution_count": 105,
   "metadata": {},
   "outputs": [
    {
     "data": {
      "text/html": [
       "<div>\n",
       "<style scoped>\n",
       "    .dataframe tbody tr th:only-of-type {\n",
       "        vertical-align: middle;\n",
       "    }\n",
       "\n",
       "    .dataframe tbody tr th {\n",
       "        vertical-align: top;\n",
       "    }\n",
       "\n",
       "    .dataframe thead th {\n",
       "        text-align: right;\n",
       "    }\n",
       "</style>\n",
       "<table border=\"1\" class=\"dataframe\">\n",
       "  <thead>\n",
       "    <tr style=\"text-align: right;\">\n",
       "      <th></th>\n",
       "      <th>0</th>\n",
       "    </tr>\n",
       "  </thead>\n",
       "  <tbody>\n",
       "    <tr>\n",
       "      <th>0</th>\n",
       "      <td>3</td>\n",
       "    </tr>\n",
       "    <tr>\n",
       "      <th>1</th>\n",
       "      <td>2</td>\n",
       "    </tr>\n",
       "    <tr>\n",
       "      <th>2</th>\n",
       "      <td>4</td>\n",
       "    </tr>\n",
       "    <tr>\n",
       "      <th>3</th>\n",
       "      <td>4</td>\n",
       "    </tr>\n",
       "    <tr>\n",
       "      <th>4</th>\n",
       "      <td>0</td>\n",
       "    </tr>\n",
       "  </tbody>\n",
       "</table>\n",
       "</div>"
      ],
      "text/plain": [
       "   0\n",
       "0  3\n",
       "1  2\n",
       "2  4\n",
       "3  4\n",
       "4  0"
      ]
     },
     "execution_count": 105,
     "metadata": {},
     "output_type": "execute_result"
    }
   ],
   "source": [
    "agglomerative.head()"
   ]
  },
  {
   "cell_type": "code",
   "execution_count": 119,
   "metadata": {},
   "outputs": [],
   "source": [
    "df_30.insert((df_30.shape[1]),'agglomerative',agglomerative)"
   ]
  },
  {
   "cell_type": "code",
   "execution_count": 120,
   "metadata": {},
   "outputs": [
    {
     "data": {
      "text/html": [
       "<div>\n",
       "<style scoped>\n",
       "    .dataframe tbody tr th:only-of-type {\n",
       "        vertical-align: middle;\n",
       "    }\n",
       "\n",
       "    .dataframe tbody tr th {\n",
       "        vertical-align: top;\n",
       "    }\n",
       "\n",
       "    .dataframe thead th {\n",
       "        text-align: right;\n",
       "    }\n",
       "</style>\n",
       "<table border=\"1\" class=\"dataframe\">\n",
       "  <thead>\n",
       "    <tr style=\"text-align: right;\">\n",
       "      <th></th>\n",
       "      <th>Confirmed</th>\n",
       "      <th>Deaths</th>\n",
       "      <th>Recovered</th>\n",
       "      <th>Active</th>\n",
       "      <th>Incidence_Rate</th>\n",
       "      <th>Case-Fatality_Ratio</th>\n",
       "      <th>agglomerative</th>\n",
       "    </tr>\n",
       "  </thead>\n",
       "  <tbody>\n",
       "    <tr>\n",
       "      <th>174</th>\n",
       "      <td>3304942.0</td>\n",
       "      <td>135205.0</td>\n",
       "      <td>1006326.0</td>\n",
       "      <td>2208772.0</td>\n",
       "      <td>2.027605e+06</td>\n",
       "      <td>10546.526615</td>\n",
       "      <td>NaN</td>\n",
       "    </tr>\n",
       "    <tr>\n",
       "      <th>23</th>\n",
       "      <td>1864681.0</td>\n",
       "      <td>72100.0</td>\n",
       "      <td>1264843.0</td>\n",
       "      <td>527738.0</td>\n",
       "      <td>3.511238e+04</td>\n",
       "      <td>82.765642</td>\n",
       "      <td>1.0</td>\n",
       "    </tr>\n",
       "    <tr>\n",
       "      <th>79</th>\n",
       "      <td>878254.0</td>\n",
       "      <td>23174.0</td>\n",
       "      <td>553471.0</td>\n",
       "      <td>301609.0</td>\n",
       "      <td>2.730168e+03</td>\n",
       "      <td>44.519569</td>\n",
       "      <td>NaN</td>\n",
       "    </tr>\n",
       "    <tr>\n",
       "      <th>140</th>\n",
       "      <td>726036.0</td>\n",
       "      <td>11318.0</td>\n",
       "      <td>500208.0</td>\n",
       "      <td>214510.0</td>\n",
       "      <td>3.776617e+04</td>\n",
       "      <td>90.606512</td>\n",
       "      <td>NaN</td>\n",
       "    </tr>\n",
       "    <tr>\n",
       "      <th>134</th>\n",
       "      <td>326326.0</td>\n",
       "      <td>11870.0</td>\n",
       "      <td>217111.0</td>\n",
       "      <td>97345.0</td>\n",
       "      <td>1.875724e+04</td>\n",
       "      <td>84.934502</td>\n",
       "      <td>NaN</td>\n",
       "    </tr>\n",
       "  </tbody>\n",
       "</table>\n",
       "</div>"
      ],
      "text/plain": [
       "     Confirmed    Deaths  Recovered     Active  Incidence_Rate  \\\n",
       "174  3304942.0  135205.0  1006326.0  2208772.0    2.027605e+06   \n",
       "23   1864681.0   72100.0  1264843.0   527738.0    3.511238e+04   \n",
       "79    878254.0   23174.0   553471.0   301609.0    2.730168e+03   \n",
       "140   726036.0   11318.0   500208.0   214510.0    3.776617e+04   \n",
       "134   326326.0   11870.0   217111.0    97345.0    1.875724e+04   \n",
       "\n",
       "     Case-Fatality_Ratio  agglomerative  \n",
       "174         10546.526615            NaN  \n",
       "23             82.765642            1.0  \n",
       "79             44.519569            NaN  \n",
       "140            90.606512            NaN  \n",
       "134            84.934502            NaN  "
      ]
     },
     "execution_count": 120,
     "metadata": {},
     "output_type": "execute_result"
    }
   ],
   "source": [
    "df_30.head()"
   ]
  },
  {
   "cell_type": "code",
   "execution_count": 121,
   "metadata": {},
   "outputs": [
    {
     "data": {
      "text/html": [
       "<div>\n",
       "<style scoped>\n",
       "    .dataframe tbody tr th:only-of-type {\n",
       "        vertical-align: middle;\n",
       "    }\n",
       "\n",
       "    .dataframe tbody tr th {\n",
       "        vertical-align: top;\n",
       "    }\n",
       "\n",
       "    .dataframe thead th {\n",
       "        text-align: right;\n",
       "    }\n",
       "</style>\n",
       "<table border=\"1\" class=\"dataframe\">\n",
       "  <thead>\n",
       "    <tr style=\"text-align: right;\">\n",
       "      <th></th>\n",
       "      <th>Confirmed</th>\n",
       "      <th>Deaths</th>\n",
       "      <th>Recovered</th>\n",
       "      <th>Active</th>\n",
       "      <th>Incidence_Rate</th>\n",
       "      <th>Case-Fatality_Ratio</th>\n",
       "      <th>agglomerative</th>\n",
       "    </tr>\n",
       "  </thead>\n",
       "  <tbody>\n",
       "    <tr>\n",
       "      <th>80</th>\n",
       "      <td>75699.0</td>\n",
       "      <td>3606.0</td>\n",
       "      <td>35638.0</td>\n",
       "      <td>36455.0</td>\n",
       "      <td>27.675489</td>\n",
       "      <td>4.763603</td>\n",
       "      <td>NaN</td>\n",
       "    </tr>\n",
       "    <tr>\n",
       "      <th>162</th>\n",
       "      <td>74898.0</td>\n",
       "      <td>5526.0</td>\n",
       "      <td>0.0</td>\n",
       "      <td>69372.0</td>\n",
       "      <td>13657.741773</td>\n",
       "      <td>135.680241</td>\n",
       "      <td>NaN</td>\n",
       "    </tr>\n",
       "    <tr>\n",
       "      <th>52</th>\n",
       "      <td>67870.0</td>\n",
       "      <td>5047.0</td>\n",
       "      <td>30283.0</td>\n",
       "      <td>32540.0</td>\n",
       "      <td>384.683836</td>\n",
       "      <td>7.436275</td>\n",
       "      <td>NaN</td>\n",
       "    </tr>\n",
       "    <tr>\n",
       "      <th>15</th>\n",
       "      <td>64932.0</td>\n",
       "      <td>464.0</td>\n",
       "      <td>55380.0</td>\n",
       "      <td>9088.0</td>\n",
       "      <td>687.160485</td>\n",
       "      <td>0.714594</td>\n",
       "      <td>1.0</td>\n",
       "    </tr>\n",
       "    <tr>\n",
       "      <th>16</th>\n",
       "      <td>62707.0</td>\n",
       "      <td>9782.0</td>\n",
       "      <td>17196.0</td>\n",
       "      <td>35729.0</td>\n",
       "      <td>541.061930</td>\n",
       "      <td>15.599534</td>\n",
       "      <td>0.0</td>\n",
       "    </tr>\n",
       "  </tbody>\n",
       "</table>\n",
       "</div>"
      ],
      "text/plain": [
       "     Confirmed  Deaths  Recovered   Active  Incidence_Rate  \\\n",
       "80     75699.0  3606.0    35638.0  36455.0       27.675489   \n",
       "162    74898.0  5526.0        0.0  69372.0    13657.741773   \n",
       "52     67870.0  5047.0    30283.0  32540.0      384.683836   \n",
       "15     64932.0   464.0    55380.0   9088.0      687.160485   \n",
       "16     62707.0  9782.0    17196.0  35729.0      541.061930   \n",
       "\n",
       "     Case-Fatality_Ratio  agglomerative  \n",
       "80              4.763603            NaN  \n",
       "162           135.680241            NaN  \n",
       "52              7.436275            NaN  \n",
       "15              0.714594            1.0  \n",
       "16             15.599534            0.0  "
      ]
     },
     "execution_count": 121,
     "metadata": {},
     "output_type": "execute_result"
    }
   ],
   "source": [
    "df_30.tail()"
   ]
  },
  {
   "cell_type": "code",
   "execution_count": 126,
   "metadata": {},
   "outputs": [],
   "source": [
    "del df_30['agglomerative']"
   ]
  },
  {
   "cell_type": "code",
   "execution_count": 127,
   "metadata": {},
   "outputs": [
    {
     "data": {
      "text/html": [
       "<div>\n",
       "<style scoped>\n",
       "    .dataframe tbody tr th:only-of-type {\n",
       "        vertical-align: middle;\n",
       "    }\n",
       "\n",
       "    .dataframe tbody tr th {\n",
       "        vertical-align: top;\n",
       "    }\n",
       "\n",
       "    .dataframe thead th {\n",
       "        text-align: right;\n",
       "    }\n",
       "</style>\n",
       "<table border=\"1\" class=\"dataframe\">\n",
       "  <thead>\n",
       "    <tr style=\"text-align: right;\">\n",
       "      <th></th>\n",
       "      <th>Confirmed</th>\n",
       "      <th>Deaths</th>\n",
       "      <th>Recovered</th>\n",
       "      <th>Active</th>\n",
       "      <th>Incidence_Rate</th>\n",
       "      <th>Case-Fatality_Ratio</th>\n",
       "    </tr>\n",
       "  </thead>\n",
       "  <tbody>\n",
       "    <tr>\n",
       "      <th>174</th>\n",
       "      <td>3304942.0</td>\n",
       "      <td>135205.0</td>\n",
       "      <td>1006326.0</td>\n",
       "      <td>2208772.0</td>\n",
       "      <td>2.027605e+06</td>\n",
       "      <td>10546.526615</td>\n",
       "    </tr>\n",
       "    <tr>\n",
       "      <th>23</th>\n",
       "      <td>1864681.0</td>\n",
       "      <td>72100.0</td>\n",
       "      <td>1264843.0</td>\n",
       "      <td>527738.0</td>\n",
       "      <td>3.511238e+04</td>\n",
       "      <td>82.765642</td>\n",
       "    </tr>\n",
       "    <tr>\n",
       "      <th>79</th>\n",
       "      <td>878254.0</td>\n",
       "      <td>23174.0</td>\n",
       "      <td>553471.0</td>\n",
       "      <td>301609.0</td>\n",
       "      <td>2.730168e+03</td>\n",
       "      <td>44.519569</td>\n",
       "    </tr>\n",
       "    <tr>\n",
       "      <th>140</th>\n",
       "      <td>726036.0</td>\n",
       "      <td>11318.0</td>\n",
       "      <td>500208.0</td>\n",
       "      <td>214510.0</td>\n",
       "      <td>3.776617e+04</td>\n",
       "      <td>90.606512</td>\n",
       "    </tr>\n",
       "    <tr>\n",
       "      <th>134</th>\n",
       "      <td>326326.0</td>\n",
       "      <td>11870.0</td>\n",
       "      <td>217111.0</td>\n",
       "      <td>97345.0</td>\n",
       "      <td>1.875724e+04</td>\n",
       "      <td>84.934502</td>\n",
       "    </tr>\n",
       "  </tbody>\n",
       "</table>\n",
       "</div>"
      ],
      "text/plain": [
       "     Confirmed    Deaths  Recovered     Active  Incidence_Rate  \\\n",
       "174  3304942.0  135205.0  1006326.0  2208772.0    2.027605e+06   \n",
       "23   1864681.0   72100.0  1264843.0   527738.0    3.511238e+04   \n",
       "79    878254.0   23174.0   553471.0   301609.0    2.730168e+03   \n",
       "140   726036.0   11318.0   500208.0   214510.0    3.776617e+04   \n",
       "134   326326.0   11870.0   217111.0    97345.0    1.875724e+04   \n",
       "\n",
       "     Case-Fatality_Ratio  \n",
       "174         10546.526615  \n",
       "23             82.765642  \n",
       "79             44.519569  \n",
       "140            90.606512  \n",
       "134            84.934502  "
      ]
     },
     "execution_count": 127,
     "metadata": {},
     "output_type": "execute_result"
    }
   ],
   "source": [
    "df_30.head()"
   ]
  },
  {
   "cell_type": "code",
   "execution_count": 129,
   "metadata": {},
   "outputs": [],
   "source": [
    "df_30_proper = pd.DataFrame(gd_30, columns=['Confirmed','Deaths','Recovered','Active'])"
   ]
  },
  {
   "cell_type": "code",
   "execution_count": 130,
   "metadata": {},
   "outputs": [
    {
     "data": {
      "image/png": "[encoded data removed]",
      "text/plain": [
       "<Figure size 432x288 with 1 Axes>"
      ]
     },
     "metadata": {
      "needs_background": "light"
     },
     "output_type": "display_data"
    }
   ],
   "source": [
    "dendrogram = sch.dendrogram(sch.linkage(df_30_proper, method  = \"ward\"))\n",
    "#plt.figure(figsize=(16,8))\n",
    "plt.title('Dendrogram')\n",
    "plt.xlabel('Country_Region')\n",
    "plt.ylabel('Euclidean distances')\n",
    "plt.show()"
   ]
  },
  {
   "cell_type": "code",
   "execution_count": 131,
   "metadata": {},
   "outputs": [],
   "source": [
    "distortions = []\n",
    "K = range(1,10)\n",
    "for k in K:\n",
    "    kmeanModel = KMeans(n_clusters=k)\n",
    "    kmeanModel.fit(df_30_proper)\n",
    "    distortions.append(kmeanModel.inertia_)"
   ]
  },
  {
   "cell_type": "code",
   "execution_count": 132,
   "metadata": {},
   "outputs": [
    {
     "data": {
      "image/png": "[encoded data removed]",
      "text/plain": [
       "<Figure size 1152x576 with 1 Axes>"
      ]
     },
     "metadata": {
      "needs_background": "light"
     },
     "output_type": "display_data"
    }
   ],
   "source": [
    "plt.figure(figsize=(16,8))\n",
    "plt.plot(K, distortions, 'bx-')\n",
    "plt.xlabel('k')\n",
    "plt.ylabel('Distortion')\n",
    "plt.title('The Elbow Method showing the optimal k')\n",
    "plt.show()"
   ]
  },
  {
   "cell_type": "code",
   "execution_count": 133,
   "metadata": {},
   "outputs": [
    {
     "data": {
      "text/plain": [
       "array([2, 1, 0, 0, 0, 0, 0, 0, 0, 0, 0, 0, 0, 0, 0, 0, 0, 0, 0, 0, 0, 0,\n",
       "       0, 0, 0, 0, 0, 0, 0, 0], dtype=int64)"
      ]
     },
     "execution_count": 133,
     "metadata": {},
     "output_type": "execute_result"
    }
   ],
   "source": [
    "from sklearn.cluster import AgglomerativeClustering\n",
    "\n",
    "cluster = AgglomerativeClustering(n_clusters=3, affinity='euclidean', linkage='ward')\n",
    "cluster.fit_predict(df_30_proper)"
   ]
  },
  {
   "cell_type": "code",
   "execution_count": 135,
   "metadata": {},
   "outputs": [
    {
     "data": {
      "text/plain": [
       "<matplotlib.collections.PathCollection at 0x1415d863448>"
      ]
     },
     "execution_count": 135,
     "metadata": {},
     "output_type": "execute_result"
    },
    {
     "data": {
      "image/png": "[encoded data removed]",
      "text/plain": [
       "<Figure size 720x504 with 1 Axes>"
      ]
     },
     "metadata": {
      "needs_background": "light"
     },
     "output_type": "display_data"
    }
   ],
   "source": [
    "plt.figure(figsize=(10, 7))\n",
    "plt.scatter(df_30_proper.iloc[:,0], df_30_proper.iloc[:,1], c=cluster.labels_, cmap='rainbow')"
   ]
  },
  {
   "cell_type": "code",
   "execution_count": 136,
   "metadata": {},
   "outputs": [],
   "source": [
    "covid_ratios = pd.read_csv(\"BDM_p2\\covid19_dataset_extensive.csv\",parse_dates=[\"Last_Update\"])"
   ]
  },
  {
   "cell_type": "code",
   "execution_count": 140,
   "metadata": {},
   "outputs": [
    {
     "name": "stdout",
     "output_type": "stream",
     "text": [
      "Collecting sklearn\n",
      "  Downloading sklearn-0.0.tar.gz (1.1 kB)\n",
      "Requirement already satisfied: scikit-learn in c:\\users\\hp\\anaconda3\\lib\\site-packages (from sklearn) (0.22.1)\n",
      "Requirement already satisfied: scipy>=0.17.0 in c:\\users\\hp\\anaconda3\\lib\\site-packages (from scikit-learn->sklearn) (1.4.1)\n",
      "Requirement already satisfied: joblib>=0.11 in c:\\users\\hp\\anaconda3\\lib\\site-packages (from scikit-learn->sklearn) (0.14.1)\n",
      "Requirement already satisfied: numpy>=1.11.0 in c:\\users\\hp\\anaconda3\\lib\\site-packages (from scikit-learn->sklearn) (1.18.1)\n",
      "Building wheels for collected packages: sklearn\n",
      "  Building wheel for sklearn (setup.py): started\n",
      "  Building wheel for sklearn (setup.py): finished with status 'done'\n",
      "  Created wheel for sklearn: filename=sklearn-0.0-py2.py3-none-any.whl size=1320 sha256=efbce13a7d6de307a0a13e712996259afcfbe85d650fe9a632a2972e8b815d92\n",
      "  Stored in directory: c:\\users\\hp\\appdata\\local\\pip\\cache\\wheels\\46\\ef\\c3\\157e41f5ee1372d1be90b09f74f82b10e391eaacca8f22d33e\n",
      "Successfully built sklearn\n",
      "Installing collected packages: sklearn\n",
      "Successfully installed sklearn-0.0\n",
      "Note: you may need to restart the kernel to use updated packages.\n"
     ]
    }
   ],
   "source": [
    "pip install sklearn"
   ]
  },
  {
   "cell_type": "code",
   "execution_count": 141,
   "metadata": {},
   "outputs": [
    {
     "ename": "ImportError",
     "evalue": "cannot import name 'Imputer' from 'sklearn.preprocessing' (C:\\Users\\hp\\anaconda3\\lib\\site-packages\\sklearn\\preprocessing\\__init__.py)",
     "output_type": "error",
     "traceback": [
      "\u001b[1;31m---------------------------------------------------------------------------\u001b[0m",
      "\u001b[1;31mImportError\u001b[0m                               Traceback (most recent call last)",
      "\u001b[1;32m<ipython-input-141-2e97a66a2985>\u001b[0m in \u001b[0;36m<module>\u001b[1;34m\u001b[0m\n\u001b[1;32m----> 1\u001b[1;33m \u001b[1;32mfrom\u001b[0m \u001b[0msklearn\u001b[0m\u001b[1;33m.\u001b[0m\u001b[0mpreprocessing\u001b[0m \u001b[1;32mimport\u001b[0m \u001b[0mImputer\u001b[0m\u001b[1;33m\u001b[0m\u001b[1;33m\u001b[0m\u001b[0m\n\u001b[0m",
      "\u001b[1;31mImportError\u001b[0m: cannot import name 'Imputer' from 'sklearn.preprocessing' (C:\\Users\\hp\\anaconda3\\lib\\site-packages\\sklearn\\preprocessing\\__init__.py)"
     ]
    }
   ],
   "source": [
    "from sklearn.preprocessing import Imputer"
   ]
  },
  {
   "cell_type": "code",
   "execution_count": null,
   "metadata": {},
   "outputs": [],
   "source": []
  }
 ],
 "metadata": {
  "kernelspec": {
   "display_name": "Python 3",
   "language": "python",
   "name": "python3"
  },
  "language_info": {
   "codemirror_mode": {
    "name": "ipython",
    "version": 3
   },
   "file_extension": ".py",
   "mimetype": "text/x-python",
   "name": "python",
   "nbconvert_exporter": "python",
   "pygments_lexer": "ipython3",
   "version": "3.7.6"
  }
 },
 "nbformat": 4,
 "nbformat_minor": 4
}
