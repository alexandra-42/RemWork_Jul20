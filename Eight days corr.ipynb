{
 "cells": [
  {
   "cell_type": "code",
   "execution_count": 1,
   "metadata": {},
   "outputs": [],
   "source": [
    "import numpy as np\n",
    "import pandas as pd"
   ]
  },
  {
   "cell_type": "code",
   "execution_count": 2,
   "metadata": {},
   "outputs": [],
   "source": [
    "df = pd.read_csv(\"BDM_p2\\covid_19_india.csv\",parse_dates=[\"Date\"])"
   ]
  },
  {
   "cell_type": "code",
   "execution_count": 3,
   "metadata": {},
   "outputs": [
    {
     "data": {
      "text/html": [
       "<div>\n",
       "<style scoped>\n",
       "    .dataframe tbody tr th:only-of-type {\n",
       "        vertical-align: middle;\n",
       "    }\n",
       "\n",
       "    .dataframe tbody tr th {\n",
       "        vertical-align: top;\n",
       "    }\n",
       "\n",
       "    .dataframe thead th {\n",
       "        text-align: right;\n",
       "    }\n",
       "</style>\n",
       "<table border=\"1\" class=\"dataframe\">\n",
       "  <thead>\n",
       "    <tr style=\"text-align: right;\">\n",
       "      <th></th>\n",
       "      <th>Sno</th>\n",
       "      <th>Date</th>\n",
       "      <th>Time</th>\n",
       "      <th>State</th>\n",
       "      <th>ConfirmedIndianNational</th>\n",
       "      <th>ConfirmedForeignNational</th>\n",
       "      <th>Cured</th>\n",
       "      <th>Deaths</th>\n",
       "      <th>Confirmed</th>\n",
       "    </tr>\n",
       "  </thead>\n",
       "  <tbody>\n",
       "    <tr>\n",
       "      <th>0</th>\n",
       "      <td>1</td>\n",
       "      <td>2020-01-30</td>\n",
       "      <td>6:00 PM</td>\n",
       "      <td>Kerala</td>\n",
       "      <td>1</td>\n",
       "      <td>0</td>\n",
       "      <td>0</td>\n",
       "      <td>0</td>\n",
       "      <td>1</td>\n",
       "    </tr>\n",
       "    <tr>\n",
       "      <th>1</th>\n",
       "      <td>2</td>\n",
       "      <td>2020-01-31</td>\n",
       "      <td>6:00 PM</td>\n",
       "      <td>Kerala</td>\n",
       "      <td>1</td>\n",
       "      <td>0</td>\n",
       "      <td>0</td>\n",
       "      <td>0</td>\n",
       "      <td>1</td>\n",
       "    </tr>\n",
       "    <tr>\n",
       "      <th>2</th>\n",
       "      <td>3</td>\n",
       "      <td>2020-01-02</td>\n",
       "      <td>6:00 PM</td>\n",
       "      <td>Kerala</td>\n",
       "      <td>2</td>\n",
       "      <td>0</td>\n",
       "      <td>0</td>\n",
       "      <td>0</td>\n",
       "      <td>2</td>\n",
       "    </tr>\n",
       "    <tr>\n",
       "      <th>3</th>\n",
       "      <td>4</td>\n",
       "      <td>2020-02-02</td>\n",
       "      <td>6:00 PM</td>\n",
       "      <td>Kerala</td>\n",
       "      <td>3</td>\n",
       "      <td>0</td>\n",
       "      <td>0</td>\n",
       "      <td>0</td>\n",
       "      <td>3</td>\n",
       "    </tr>\n",
       "    <tr>\n",
       "      <th>4</th>\n",
       "      <td>5</td>\n",
       "      <td>2020-03-02</td>\n",
       "      <td>6:00 PM</td>\n",
       "      <td>Kerala</td>\n",
       "      <td>3</td>\n",
       "      <td>0</td>\n",
       "      <td>0</td>\n",
       "      <td>0</td>\n",
       "      <td>3</td>\n",
       "    </tr>\n",
       "  </tbody>\n",
       "</table>\n",
       "</div>"
      ],
      "text/plain": [
       "   Sno       Date     Time   State ConfirmedIndianNational  \\\n",
       "0    1 2020-01-30  6:00 PM  Kerala                       1   \n",
       "1    2 2020-01-31  6:00 PM  Kerala                       1   \n",
       "2    3 2020-01-02  6:00 PM  Kerala                       2   \n",
       "3    4 2020-02-02  6:00 PM  Kerala                       3   \n",
       "4    5 2020-03-02  6:00 PM  Kerala                       3   \n",
       "\n",
       "  ConfirmedForeignNational  Cured  Deaths  Confirmed  \n",
       "0                        0      0       0          1  \n",
       "1                        0      0       0          1  \n",
       "2                        0      0       0          2  \n",
       "3                        0      0       0          3  \n",
       "4                        0      0       0          3  "
      ]
     },
     "execution_count": 3,
     "metadata": {},
     "output_type": "execute_result"
    }
   ],
   "source": [
    "df.head()"
   ]
  },
  {
   "cell_type": "code",
   "execution_count": 4,
   "metadata": {},
   "outputs": [],
   "source": [
    "import sqlite3"
   ]
  },
  {
   "cell_type": "code",
   "execution_count": 5,
   "metadata": {},
   "outputs": [],
   "source": [
    "conn = sqlite3.connect(\"covid19_db.db\")"
   ]
  },
  {
   "cell_type": "code",
   "execution_count": 6,
   "metadata": {},
   "outputs": [
    {
     "ename": "ValueError",
     "evalue": "Table 'india_covid_tbl' already exists.",
     "output_type": "error",
     "traceback": [
      "\u001b[1;31m---------------------------------------------------------------------------\u001b[0m",
      "\u001b[1;31mValueError\u001b[0m                                Traceback (most recent call last)",
      "\u001b[1;32m<ipython-input-6-a727582674f2>\u001b[0m in \u001b[0;36m<module>\u001b[1;34m\u001b[0m\n\u001b[1;32m----> 1\u001b[1;33m \u001b[0mdf\u001b[0m\u001b[1;33m.\u001b[0m\u001b[0mto_sql\u001b[0m\u001b[1;33m(\u001b[0m\u001b[1;34m'india_covid_tbl'\u001b[0m\u001b[1;33m,\u001b[0m \u001b[0mconn\u001b[0m\u001b[1;33m)\u001b[0m\u001b[1;33m\u001b[0m\u001b[1;33m\u001b[0m\u001b[0m\n\u001b[0m",
      "\u001b[1;32m~\\anaconda3\\lib\\site-packages\\pandas\\core\\generic.py\u001b[0m in \u001b[0;36mto_sql\u001b[1;34m(self, name, con, schema, if_exists, index, index_label, chunksize, dtype, method)\u001b[0m\n\u001b[0;32m   2661\u001b[0m             \u001b[0mchunksize\u001b[0m\u001b[1;33m=\u001b[0m\u001b[0mchunksize\u001b[0m\u001b[1;33m,\u001b[0m\u001b[1;33m\u001b[0m\u001b[1;33m\u001b[0m\u001b[0m\n\u001b[0;32m   2662\u001b[0m             \u001b[0mdtype\u001b[0m\u001b[1;33m=\u001b[0m\u001b[0mdtype\u001b[0m\u001b[1;33m,\u001b[0m\u001b[1;33m\u001b[0m\u001b[1;33m\u001b[0m\u001b[0m\n\u001b[1;32m-> 2663\u001b[1;33m             \u001b[0mmethod\u001b[0m\u001b[1;33m=\u001b[0m\u001b[0mmethod\u001b[0m\u001b[1;33m,\u001b[0m\u001b[1;33m\u001b[0m\u001b[1;33m\u001b[0m\u001b[0m\n\u001b[0m\u001b[0;32m   2664\u001b[0m         )\n\u001b[0;32m   2665\u001b[0m \u001b[1;33m\u001b[0m\u001b[0m\n",
      "\u001b[1;32m~\\anaconda3\\lib\\site-packages\\pandas\\io\\sql.py\u001b[0m in \u001b[0;36mto_sql\u001b[1;34m(frame, name, con, schema, if_exists, index, index_label, chunksize, dtype, method)\u001b[0m\n\u001b[0;32m    519\u001b[0m         \u001b[0mchunksize\u001b[0m\u001b[1;33m=\u001b[0m\u001b[0mchunksize\u001b[0m\u001b[1;33m,\u001b[0m\u001b[1;33m\u001b[0m\u001b[1;33m\u001b[0m\u001b[0m\n\u001b[0;32m    520\u001b[0m         \u001b[0mdtype\u001b[0m\u001b[1;33m=\u001b[0m\u001b[0mdtype\u001b[0m\u001b[1;33m,\u001b[0m\u001b[1;33m\u001b[0m\u001b[1;33m\u001b[0m\u001b[0m\n\u001b[1;32m--> 521\u001b[1;33m         \u001b[0mmethod\u001b[0m\u001b[1;33m=\u001b[0m\u001b[0mmethod\u001b[0m\u001b[1;33m,\u001b[0m\u001b[1;33m\u001b[0m\u001b[1;33m\u001b[0m\u001b[0m\n\u001b[0m\u001b[0;32m    522\u001b[0m     )\n\u001b[0;32m    523\u001b[0m \u001b[1;33m\u001b[0m\u001b[0m\n",
      "\u001b[1;32m~\\anaconda3\\lib\\site-packages\\pandas\\io\\sql.py\u001b[0m in \u001b[0;36mto_sql\u001b[1;34m(self, frame, name, if_exists, index, index_label, schema, chunksize, dtype, method)\u001b[0m\n\u001b[0;32m   1731\u001b[0m             \u001b[0mdtype\u001b[0m\u001b[1;33m=\u001b[0m\u001b[0mdtype\u001b[0m\u001b[1;33m,\u001b[0m\u001b[1;33m\u001b[0m\u001b[1;33m\u001b[0m\u001b[0m\n\u001b[0;32m   1732\u001b[0m         )\n\u001b[1;32m-> 1733\u001b[1;33m         \u001b[0mtable\u001b[0m\u001b[1;33m.\u001b[0m\u001b[0mcreate\u001b[0m\u001b[1;33m(\u001b[0m\u001b[1;33m)\u001b[0m\u001b[1;33m\u001b[0m\u001b[1;33m\u001b[0m\u001b[0m\n\u001b[0m\u001b[0;32m   1734\u001b[0m         \u001b[0mtable\u001b[0m\u001b[1;33m.\u001b[0m\u001b[0minsert\u001b[0m\u001b[1;33m(\u001b[0m\u001b[0mchunksize\u001b[0m\u001b[1;33m,\u001b[0m \u001b[0mmethod\u001b[0m\u001b[1;33m)\u001b[0m\u001b[1;33m\u001b[0m\u001b[1;33m\u001b[0m\u001b[0m\n\u001b[0;32m   1735\u001b[0m \u001b[1;33m\u001b[0m\u001b[0m\n",
      "\u001b[1;32m~\\anaconda3\\lib\\site-packages\\pandas\\io\\sql.py\u001b[0m in \u001b[0;36mcreate\u001b[1;34m(self)\u001b[0m\n\u001b[0;32m    644\u001b[0m         \u001b[1;32mif\u001b[0m \u001b[0mself\u001b[0m\u001b[1;33m.\u001b[0m\u001b[0mexists\u001b[0m\u001b[1;33m(\u001b[0m\u001b[1;33m)\u001b[0m\u001b[1;33m:\u001b[0m\u001b[1;33m\u001b[0m\u001b[1;33m\u001b[0m\u001b[0m\n\u001b[0;32m    645\u001b[0m             \u001b[1;32mif\u001b[0m \u001b[0mself\u001b[0m\u001b[1;33m.\u001b[0m\u001b[0mif_exists\u001b[0m \u001b[1;33m==\u001b[0m \u001b[1;34m\"fail\"\u001b[0m\u001b[1;33m:\u001b[0m\u001b[1;33m\u001b[0m\u001b[1;33m\u001b[0m\u001b[0m\n\u001b[1;32m--> 646\u001b[1;33m                 \u001b[1;32mraise\u001b[0m \u001b[0mValueError\u001b[0m\u001b[1;33m(\u001b[0m\u001b[1;34mf\"Table '{self.name}' already exists.\"\u001b[0m\u001b[1;33m)\u001b[0m\u001b[1;33m\u001b[0m\u001b[1;33m\u001b[0m\u001b[0m\n\u001b[0m\u001b[0;32m    647\u001b[0m             \u001b[1;32melif\u001b[0m \u001b[0mself\u001b[0m\u001b[1;33m.\u001b[0m\u001b[0mif_exists\u001b[0m \u001b[1;33m==\u001b[0m \u001b[1;34m\"replace\"\u001b[0m\u001b[1;33m:\u001b[0m\u001b[1;33m\u001b[0m\u001b[1;33m\u001b[0m\u001b[0m\n\u001b[0;32m    648\u001b[0m                 \u001b[0mself\u001b[0m\u001b[1;33m.\u001b[0m\u001b[0mpd_sql\u001b[0m\u001b[1;33m.\u001b[0m\u001b[0mdrop_table\u001b[0m\u001b[1;33m(\u001b[0m\u001b[0mself\u001b[0m\u001b[1;33m.\u001b[0m\u001b[0mname\u001b[0m\u001b[1;33m,\u001b[0m \u001b[0mself\u001b[0m\u001b[1;33m.\u001b[0m\u001b[0mschema\u001b[0m\u001b[1;33m)\u001b[0m\u001b[1;33m\u001b[0m\u001b[1;33m\u001b[0m\u001b[0m\n",
      "\u001b[1;31mValueError\u001b[0m: Table 'india_covid_tbl' already exists."
     ]
    }
   ],
   "source": [
    "df.to_sql('india_covid_tbl', conn)"
   ]
  },
  {
   "cell_type": "code",
   "execution_count": null,
   "metadata": {},
   "outputs": [],
   "source": [
    "q1 = 'Select * from india_covid_tbl where State = \"Delhi\" '"
   ]
  },
  {
   "cell_type": "code",
   "execution_count": null,
   "metadata": {},
   "outputs": [],
   "source": [
    "df2 = pd.read_sql(q1, conn)"
   ]
  },
  {
   "cell_type": "code",
   "execution_count": null,
   "metadata": {},
   "outputs": [],
   "source": [
    "df2.head()"
   ]
  },
  {
   "cell_type": "code",
   "execution_count": 7,
   "metadata": {},
   "outputs": [
    {
     "ename": "NameError",
     "evalue": "name 'df2' is not defined",
     "output_type": "error",
     "traceback": [
      "\u001b[1;31m---------------------------------------------------------------------------\u001b[0m",
      "\u001b[1;31mNameError\u001b[0m                                 Traceback (most recent call last)",
      "\u001b[1;32m<ipython-input-7-0f8e3e99fb4c>\u001b[0m in \u001b[0;36m<module>\u001b[1;34m\u001b[0m\n\u001b[1;32m----> 1\u001b[1;33m \u001b[0mabc\u001b[0m \u001b[1;33m=\u001b[0m \u001b[0mdf2\u001b[0m\u001b[1;33m.\u001b[0m\u001b[0mto_csv\u001b[0m\u001b[1;33m(\u001b[0m\u001b[1;34m\"delhi_cases.csv\"\u001b[0m\u001b[1;33m)\u001b[0m\u001b[1;33m\u001b[0m\u001b[1;33m\u001b[0m\u001b[0m\n\u001b[0m",
      "\u001b[1;31mNameError\u001b[0m: name 'df2' is not defined"
     ]
    }
   ],
   "source": [
    "abc = df2.to_csv(\"delhi_cases.csv\")"
   ]
  },
  {
   "cell_type": "code",
   "execution_count": 8,
   "metadata": {},
   "outputs": [],
   "source": [
    "df3 = pd.read_csv(\"delhi_cases.csv\",parse_dates=[\"Date\"])"
   ]
  },
  {
   "cell_type": "code",
   "execution_count": 9,
   "metadata": {},
   "outputs": [
    {
     "data": {
      "text/html": [
       "<div>\n",
       "<style scoped>\n",
       "    .dataframe tbody tr th:only-of-type {\n",
       "        vertical-align: middle;\n",
       "    }\n",
       "\n",
       "    .dataframe tbody tr th {\n",
       "        vertical-align: top;\n",
       "    }\n",
       "\n",
       "    .dataframe thead th {\n",
       "        text-align: right;\n",
       "    }\n",
       "</style>\n",
       "<table border=\"1\" class=\"dataframe\">\n",
       "  <thead>\n",
       "    <tr style=\"text-align: right;\">\n",
       "      <th></th>\n",
       "      <th>Unnamed: 0</th>\n",
       "      <th>index</th>\n",
       "      <th>Sno</th>\n",
       "      <th>Date_</th>\n",
       "      <th>Time</th>\n",
       "      <th>Date</th>\n",
       "      <th>State</th>\n",
       "      <th>ConfirmedIndianNational</th>\n",
       "      <th>ConfirmedForeignNational</th>\n",
       "      <th>Cured</th>\n",
       "      <th>Deaths</th>\n",
       "      <th>Confirmed</th>\n",
       "      <th>Five</th>\n",
       "      <th>Eight</th>\n",
       "      <th>Ten</th>\n",
       "      <th>Twelve</th>\n",
       "      <th>Fourteen</th>\n",
       "      <th>Sixteen</th>\n",
       "      <th>Twenty</th>\n",
       "    </tr>\n",
       "  </thead>\n",
       "  <tbody>\n",
       "    <tr>\n",
       "      <th>0</th>\n",
       "      <td>0</td>\n",
       "      <td>34</td>\n",
       "      <td>35</td>\n",
       "      <td>03-02-2020 00:00</td>\n",
       "      <td>6:00 PM</td>\n",
       "      <td>2020-02-03</td>\n",
       "      <td>Delhi</td>\n",
       "      <td>1</td>\n",
       "      <td>0</td>\n",
       "      <td>0</td>\n",
       "      <td>0</td>\n",
       "      <td>1</td>\n",
       "      <td>0.0</td>\n",
       "      <td>0.0</td>\n",
       "      <td>0.0</td>\n",
       "      <td>1.0</td>\n",
       "      <td>1.0</td>\n",
       "      <td>1.0</td>\n",
       "      <td>1.0</td>\n",
       "    </tr>\n",
       "    <tr>\n",
       "      <th>1</th>\n",
       "      <td>1</td>\n",
       "      <td>38</td>\n",
       "      <td>39</td>\n",
       "      <td>03-03-2020 00:00</td>\n",
       "      <td>6:00 PM</td>\n",
       "      <td>2020-03-03</td>\n",
       "      <td>Delhi</td>\n",
       "      <td>1</td>\n",
       "      <td>0</td>\n",
       "      <td>0</td>\n",
       "      <td>0</td>\n",
       "      <td>1</td>\n",
       "      <td>0.0</td>\n",
       "      <td>0.0</td>\n",
       "      <td>0.0</td>\n",
       "      <td>1.0</td>\n",
       "      <td>1.0</td>\n",
       "      <td>1.0</td>\n",
       "      <td>1.0</td>\n",
       "    </tr>\n",
       "    <tr>\n",
       "      <th>2</th>\n",
       "      <td>2</td>\n",
       "      <td>42</td>\n",
       "      <td>43</td>\n",
       "      <td>03-04-2020 00:00</td>\n",
       "      <td>6:00 PM</td>\n",
       "      <td>2020-04-03</td>\n",
       "      <td>Delhi</td>\n",
       "      <td>1</td>\n",
       "      <td>0</td>\n",
       "      <td>0</td>\n",
       "      <td>0</td>\n",
       "      <td>1</td>\n",
       "      <td>0.0</td>\n",
       "      <td>0.0</td>\n",
       "      <td>1.0</td>\n",
       "      <td>1.0</td>\n",
       "      <td>1.0</td>\n",
       "      <td>1.0</td>\n",
       "      <td>1.0</td>\n",
       "    </tr>\n",
       "    <tr>\n",
       "      <th>3</th>\n",
       "      <td>3</td>\n",
       "      <td>45</td>\n",
       "      <td>46</td>\n",
       "      <td>03-05-2020 00:00</td>\n",
       "      <td>6:00 PM</td>\n",
       "      <td>2020-05-03</td>\n",
       "      <td>Delhi</td>\n",
       "      <td>2</td>\n",
       "      <td>0</td>\n",
       "      <td>0</td>\n",
       "      <td>0</td>\n",
       "      <td>2</td>\n",
       "      <td>0.0</td>\n",
       "      <td>0.0</td>\n",
       "      <td>1.0</td>\n",
       "      <td>1.0</td>\n",
       "      <td>1.0</td>\n",
       "      <td>1.0</td>\n",
       "      <td>1.0</td>\n",
       "    </tr>\n",
       "    <tr>\n",
       "      <th>4</th>\n",
       "      <td>4</td>\n",
       "      <td>51</td>\n",
       "      <td>52</td>\n",
       "      <td>03-06-2020 00:00</td>\n",
       "      <td>6:00 PM</td>\n",
       "      <td>2020-06-03</td>\n",
       "      <td>Delhi</td>\n",
       "      <td>3</td>\n",
       "      <td>0</td>\n",
       "      <td>0</td>\n",
       "      <td>0</td>\n",
       "      <td>3</td>\n",
       "      <td>0.0</td>\n",
       "      <td>1.0</td>\n",
       "      <td>1.0</td>\n",
       "      <td>1.0</td>\n",
       "      <td>1.0</td>\n",
       "      <td>1.0</td>\n",
       "      <td>1.0</td>\n",
       "    </tr>\n",
       "  </tbody>\n",
       "</table>\n",
       "</div>"
      ],
      "text/plain": [
       "   Unnamed: 0  index  Sno             Date_     Time       Date  State  \\\n",
       "0           0     34   35  03-02-2020 00:00  6:00 PM 2020-02-03  Delhi   \n",
       "1           1     38   39  03-03-2020 00:00  6:00 PM 2020-03-03  Delhi   \n",
       "2           2     42   43  03-04-2020 00:00  6:00 PM 2020-04-03  Delhi   \n",
       "3           3     45   46  03-05-2020 00:00  6:00 PM 2020-05-03  Delhi   \n",
       "4           4     51   52  03-06-2020 00:00  6:00 PM 2020-06-03  Delhi   \n",
       "\n",
       "  ConfirmedIndianNational ConfirmedForeignNational  Cured  Deaths  Confirmed  \\\n",
       "0                       1                        0      0       0          1   \n",
       "1                       1                        0      0       0          1   \n",
       "2                       1                        0      0       0          1   \n",
       "3                       2                        0      0       0          2   \n",
       "4                       3                        0      0       0          3   \n",
       "\n",
       "   Five  Eight  Ten  Twelve  Fourteen  Sixteen  Twenty  \n",
       "0   0.0    0.0  0.0     1.0       1.0      1.0     1.0  \n",
       "1   0.0    0.0  0.0     1.0       1.0      1.0     1.0  \n",
       "2   0.0    0.0  1.0     1.0       1.0      1.0     1.0  \n",
       "3   0.0    0.0  1.0     1.0       1.0      1.0     1.0  \n",
       "4   0.0    1.0  1.0     1.0       1.0      1.0     1.0  "
      ]
     },
     "execution_count": 9,
     "metadata": {},
     "output_type": "execute_result"
    }
   ],
   "source": [
    "df3.head()"
   ]
  },
  {
   "cell_type": "code",
   "execution_count": 10,
   "metadata": {},
   "outputs": [],
   "source": [
    "corr_eight_df = pd.DataFrame(df3, columns=['Date','Confirmed','Eight'])"
   ]
  },
  {
   "cell_type": "code",
   "execution_count": 11,
   "metadata": {},
   "outputs": [
    {
     "data": {
      "text/html": [
       "<div>\n",
       "<style scoped>\n",
       "    .dataframe tbody tr th:only-of-type {\n",
       "        vertical-align: middle;\n",
       "    }\n",
       "\n",
       "    .dataframe tbody tr th {\n",
       "        vertical-align: top;\n",
       "    }\n",
       "\n",
       "    .dataframe thead th {\n",
       "        text-align: right;\n",
       "    }\n",
       "</style>\n",
       "<table border=\"1\" class=\"dataframe\">\n",
       "  <thead>\n",
       "    <tr style=\"text-align: right;\">\n",
       "      <th></th>\n",
       "      <th>Date</th>\n",
       "      <th>Confirmed</th>\n",
       "      <th>Eight</th>\n",
       "    </tr>\n",
       "  </thead>\n",
       "  <tbody>\n",
       "    <tr>\n",
       "      <th>0</th>\n",
       "      <td>2020-02-03</td>\n",
       "      <td>1</td>\n",
       "      <td>0.0</td>\n",
       "    </tr>\n",
       "    <tr>\n",
       "      <th>1</th>\n",
       "      <td>2020-03-03</td>\n",
       "      <td>1</td>\n",
       "      <td>0.0</td>\n",
       "    </tr>\n",
       "    <tr>\n",
       "      <th>2</th>\n",
       "      <td>2020-04-03</td>\n",
       "      <td>1</td>\n",
       "      <td>0.0</td>\n",
       "    </tr>\n",
       "    <tr>\n",
       "      <th>3</th>\n",
       "      <td>2020-05-03</td>\n",
       "      <td>2</td>\n",
       "      <td>0.0</td>\n",
       "    </tr>\n",
       "    <tr>\n",
       "      <th>4</th>\n",
       "      <td>2020-06-03</td>\n",
       "      <td>3</td>\n",
       "      <td>1.0</td>\n",
       "    </tr>\n",
       "  </tbody>\n",
       "</table>\n",
       "</div>"
      ],
      "text/plain": [
       "        Date  Confirmed  Eight\n",
       "0 2020-02-03          1    0.0\n",
       "1 2020-03-03          1    0.0\n",
       "2 2020-04-03          1    0.0\n",
       "3 2020-05-03          2    0.0\n",
       "4 2020-06-03          3    1.0"
      ]
     },
     "execution_count": 11,
     "metadata": {},
     "output_type": "execute_result"
    }
   ],
   "source": [
    "corr_eight_df.head()"
   ]
  },
  {
   "cell_type": "code",
   "execution_count": 12,
   "metadata": {},
   "outputs": [
    {
     "data": {
      "text/html": [
       "<div>\n",
       "<style scoped>\n",
       "    .dataframe tbody tr th:only-of-type {\n",
       "        vertical-align: middle;\n",
       "    }\n",
       "\n",
       "    .dataframe tbody tr th {\n",
       "        vertical-align: top;\n",
       "    }\n",
       "\n",
       "    .dataframe thead th {\n",
       "        text-align: right;\n",
       "    }\n",
       "</style>\n",
       "<table border=\"1\" class=\"dataframe\">\n",
       "  <thead>\n",
       "    <tr style=\"text-align: right;\">\n",
       "      <th></th>\n",
       "      <th>Date</th>\n",
       "      <th>Confirmed</th>\n",
       "      <th>Eight</th>\n",
       "    </tr>\n",
       "  </thead>\n",
       "  <tbody>\n",
       "    <tr>\n",
       "      <th>0</th>\n",
       "      <td>2020-02-03</td>\n",
       "      <td>1</td>\n",
       "      <td>0.0</td>\n",
       "    </tr>\n",
       "    <tr>\n",
       "      <th>1</th>\n",
       "      <td>2020-03-03</td>\n",
       "      <td>1</td>\n",
       "      <td>0.0</td>\n",
       "    </tr>\n",
       "    <tr>\n",
       "      <th>2</th>\n",
       "      <td>2020-04-03</td>\n",
       "      <td>1</td>\n",
       "      <td>0.0</td>\n",
       "    </tr>\n",
       "    <tr>\n",
       "      <th>3</th>\n",
       "      <td>2020-05-03</td>\n",
       "      <td>2</td>\n",
       "      <td>0.0</td>\n",
       "    </tr>\n",
       "    <tr>\n",
       "      <th>4</th>\n",
       "      <td>2020-06-03</td>\n",
       "      <td>3</td>\n",
       "      <td>1.0</td>\n",
       "    </tr>\n",
       "    <tr>\n",
       "      <th>...</th>\n",
       "      <td>...</td>\n",
       "      <td>...</td>\n",
       "      <td>...</td>\n",
       "    </tr>\n",
       "    <tr>\n",
       "      <th>123</th>\n",
       "      <td>2020-03-07</td>\n",
       "      <td>92175</td>\n",
       "      <td>3300.0</td>\n",
       "    </tr>\n",
       "    <tr>\n",
       "      <th>124</th>\n",
       "      <td>2020-04-07</td>\n",
       "      <td>94695</td>\n",
       "      <td>3334.0</td>\n",
       "    </tr>\n",
       "    <tr>\n",
       "      <th>125</th>\n",
       "      <td>2020-05-07</td>\n",
       "      <td>97200</td>\n",
       "      <td>3371.0</td>\n",
       "    </tr>\n",
       "    <tr>\n",
       "      <th>126</th>\n",
       "      <td>2020-06-07</td>\n",
       "      <td>99444</td>\n",
       "      <td>3411.0</td>\n",
       "    </tr>\n",
       "    <tr>\n",
       "      <th>127</th>\n",
       "      <td>2020-07-07</td>\n",
       "      <td>100823</td>\n",
       "      <td>3446.0</td>\n",
       "    </tr>\n",
       "  </tbody>\n",
       "</table>\n",
       "<p>128 rows × 3 columns</p>\n",
       "</div>"
      ],
      "text/plain": [
       "          Date  Confirmed   Eight\n",
       "0   2020-02-03          1     0.0\n",
       "1   2020-03-03          1     0.0\n",
       "2   2020-04-03          1     0.0\n",
       "3   2020-05-03          2     0.0\n",
       "4   2020-06-03          3     1.0\n",
       "..         ...        ...     ...\n",
       "123 2020-03-07      92175  3300.0\n",
       "124 2020-04-07      94695  3334.0\n",
       "125 2020-05-07      97200  3371.0\n",
       "126 2020-06-07      99444  3411.0\n",
       "127 2020-07-07     100823  3446.0\n",
       "\n",
       "[128 rows x 3 columns]"
      ]
     },
     "execution_count": 12,
     "metadata": {},
     "output_type": "execute_result"
    }
   ],
   "source": [
    "corr_eight_df.dropna()"
   ]
  },
  {
   "cell_type": "code",
   "execution_count": 13,
   "metadata": {},
   "outputs": [
    {
     "name": "stdout",
     "output_type": "stream",
     "text": [
      "<class 'pandas.core.frame.DataFrame'>\n",
      "RangeIndex: 136 entries, 0 to 135\n",
      "Data columns (total 3 columns):\n",
      " #   Column     Non-Null Count  Dtype         \n",
      "---  ------     --------------  -----         \n",
      " 0   Date       136 non-null    datetime64[ns]\n",
      " 1   Confirmed  136 non-null    int64         \n",
      " 2   Eight      128 non-null    float64       \n",
      "dtypes: datetime64[ns](1), float64(1), int64(1)\n",
      "memory usage: 3.3 KB\n"
     ]
    }
   ],
   "source": [
    "corr_eight_df.info()"
   ]
  },
  {
   "cell_type": "code",
   "execution_count": 14,
   "metadata": {},
   "outputs": [],
   "source": [
    "corr_eight_df[\"Confirmed\"]=corr_eight_df[\"Confirmed\"].astype(\"float64\")"
   ]
  },
  {
   "cell_type": "code",
   "execution_count": 15,
   "metadata": {},
   "outputs": [],
   "source": [
    "import scipy.stats as stats"
   ]
  },
  {
   "cell_type": "code",
   "execution_count": 16,
   "metadata": {},
   "outputs": [
    {
     "name": "stdout",
     "output_type": "stream",
     "text": [
      "Pandas computed Pearson r: 0.9790837201209409\n"
     ]
    }
   ],
   "source": [
    "corr_eight_df.dropna()\n",
    "overall_pearson_r = corr_eight_df.corr().iloc[0,1]\n",
    "print(f\"Pandas computed Pearson r: {overall_pearson_r}\")"
   ]
  },
  {
   "cell_type": "code",
   "execution_count": 17,
   "metadata": {},
   "outputs": [],
   "source": [
    "pearsonr_x = corr_eight_df[\"Confirmed\"]"
   ]
  },
  {
   "cell_type": "code",
   "execution_count": 18,
   "metadata": {},
   "outputs": [],
   "source": [
    "pearsonr_y = corr_eight_df[\"Eight\"]"
   ]
  },
  {
   "cell_type": "code",
   "execution_count": 19,
   "metadata": {},
   "outputs": [],
   "source": [
    "import scipy.stats"
   ]
  },
  {
   "cell_type": "code",
   "execution_count": 20,
   "metadata": {
    "scrolled": true
   },
   "outputs": [
    {
     "data": {
      "text/plain": [
       "array([[Timestamp('2020-02-03 00:00:00'), 1.0, 0.0],\n",
       "       [Timestamp('2020-03-03 00:00:00'), 1.0, 0.0],\n",
       "       [Timestamp('2020-04-03 00:00:00'), 1.0, 0.0],\n",
       "       [Timestamp('2020-05-03 00:00:00'), 2.0, 0.0],\n",
       "       [Timestamp('2020-06-03 00:00:00'), 3.0, 1.0],\n",
       "       [Timestamp('2020-07-03 00:00:00'), 3.0, 1.0],\n",
       "       [Timestamp('2020-08-03 00:00:00'), 3.0, 1.0],\n",
       "       [Timestamp('2020-09-03 00:00:00'), 4.0, 1.0],\n",
       "       [Timestamp('2020-10-03 00:00:00'), 4.0, 1.0],\n",
       "       [Timestamp('2020-11-03 00:00:00'), 5.0, 1.0],\n",
       "       [Timestamp('2020-12-03 00:00:00'), 6.0, 1.0],\n",
       "       [Timestamp('2020-03-13 00:00:00'), 6.0, 1.0],\n",
       "       [Timestamp('2020-03-14 00:00:00'), 7.0, 1.0],\n",
       "       [Timestamp('2020-03-15 00:00:00'), 7.0, 1.0],\n",
       "       [Timestamp('2020-03-16 00:00:00'), 7.0, 1.0],\n",
       "       [Timestamp('2020-03-17 00:00:00'), 8.0, 1.0],\n",
       "       [Timestamp('2020-03-18 00:00:00'), 10.0, 1.0],\n",
       "       [Timestamp('2020-03-19 00:00:00'), 12.0, 1.0],\n",
       "       [Timestamp('2020-03-20 00:00:00'), 17.0, 1.0],\n",
       "       [Timestamp('2020-03-21 00:00:00'), 26.0, 2.0],\n",
       "       [Timestamp('2020-03-22 00:00:00'), 29.0, 2.0],\n",
       "       [Timestamp('2020-03-23 00:00:00'), 29.0, 2.0],\n",
       "       [Timestamp('2020-03-24 00:00:00'), 30.0, 2.0],\n",
       "       [Timestamp('2020-03-25 00:00:00'), 31.0, 4.0],\n",
       "       [Timestamp('2020-03-26 00:00:00'), 36.0, 4.0],\n",
       "       [Timestamp('2020-03-27 00:00:00'), 36.0, 6.0],\n",
       "       [Timestamp('2020-03-28 00:00:00'), 39.0, 7.0],\n",
       "       [Timestamp('2020-03-29 00:00:00'), 49.0, 7.0],\n",
       "       [Timestamp('2020-03-30 00:00:00'), 87.0, 7.0],\n",
       "       [Timestamp('2020-03-31 00:00:00'), 97.0, 9.0],\n",
       "       [Timestamp('2020-01-04 00:00:00'), 152.0, 9.0],\n",
       "       [Timestamp('2020-02-04 00:00:00'), 219.0, 13.0],\n",
       "       [Timestamp('2020-03-04 00:00:00'), 219.0, 14.0],\n",
       "       [Timestamp('2020-04-04 00:00:00'), 445.0, 19.0],\n",
       "       [Timestamp('2020-05-04 00:00:00'), 503.0, 24.0],\n",
       "       [Timestamp('2020-06-04 00:00:00'), 523.0, 28.0],\n",
       "       [Timestamp('2020-07-04 00:00:00'), 576.0, 30.0],\n",
       "       [Timestamp('2020-08-04 00:00:00'), 576.0, 32.0],\n",
       "       [Timestamp('2020-09-04 00:00:00'), 669.0, 38.0],\n",
       "       [Timestamp('2020-10-04 00:00:00'), 898.0, 42.0],\n",
       "       [Timestamp('2020-11-04 00:00:00'), 903.0, 43.0],\n",
       "       [Timestamp('2020-12-04 00:00:00'), 1069.0, 45.0],\n",
       "       [Timestamp('2020-04-13 00:00:00'), 1154.0, 47.0],\n",
       "       [Timestamp('2020-04-14 00:00:00'), 1510.0, 47.0],\n",
       "       [Timestamp('2020-04-15 00:00:00'), 1561.0, 48.0],\n",
       "       [Timestamp('2020-04-16 00:00:00'), 1578.0, 50.0],\n",
       "       [Timestamp('2020-04-17 00:00:00'), 1640.0, 53.0],\n",
       "       [Timestamp('2020-04-18 00:00:00'), 1707.0, 54.0],\n",
       "       [Timestamp('2020-04-19 00:00:00'), 1893.0, 54.0],\n",
       "       [Timestamp('2020-04-20 00:00:00'), 2003.0, 54.0],\n",
       "       [Timestamp('2020-04-21 00:00:00'), 2081.0, 54.0],\n",
       "       [Timestamp('2020-04-22 00:00:00'), 2156.0, 56.0],\n",
       "       [Timestamp('2020-04-23 00:00:00'), 2248.0, 59.0],\n",
       "       [Timestamp('2020-04-24 00:00:00'), 2376.0, 61.0],\n",
       "       [Timestamp('2020-04-25 00:00:00'), 2514.0, 64.0],\n",
       "       [Timestamp('2020-04-26 00:00:00'), 2625.0, 64.0],\n",
       "       [Timestamp('2020-04-27 00:00:00'), 2918.0, 64.0],\n",
       "       [Timestamp('2020-04-28 00:00:00'), 3108.0, 64.0],\n",
       "       [Timestamp('2020-04-29 00:00:00'), 3314.0, 65.0],\n",
       "       [Timestamp('2020-04-30 00:00:00'), 3439.0, 66.0],\n",
       "       [Timestamp('2020-01-05 00:00:00'), 3515.0, 68.0],\n",
       "       [Timestamp('2020-02-05 00:00:00'), 3738.0, 73.0],\n",
       "       [Timestamp('2020-03-05 00:00:00'), 4122.0, 73.0],\n",
       "       [Timestamp('2020-04-05 00:00:00'), 4549.0, 73.0],\n",
       "       [Timestamp('2020-05-05 00:00:00'), 4898.0, 86.0],\n",
       "       [Timestamp('2020-06-05 00:00:00'), 5104.0, 106.0],\n",
       "       [Timestamp('2020-07-05 00:00:00'), 5532.0, 115.0],\n",
       "       [Timestamp('2020-08-05 00:00:00'), 5980.0, 123.0],\n",
       "       [Timestamp('2020-09-05 00:00:00'), 6318.0, 129.0],\n",
       "       [Timestamp('2020-10-05 00:00:00'), 6542.0, 160.0],\n",
       "       [Timestamp('2020-11-05 00:00:00'), 6923.0, 168.0],\n",
       "       [Timestamp('2020-12-05 00:00:00'), 7233.0, 168.0],\n",
       "       [Timestamp('2020-05-13 00:00:00'), 7639.0, 176.0],\n",
       "       [Timestamp('2020-05-14 00:00:00'), 7998.0, 194.0],\n",
       "       [Timestamp('2020-05-15 00:00:00'), 8470.0, 208.0],\n",
       "       [Timestamp('2020-05-16 00:00:00'), 8895.0, 231.0],\n",
       "       [Timestamp('2020-05-17 00:00:00'), 9333.0, 261.0],\n",
       "       [Timestamp('2020-05-18 00:00:00'), 10054.0, 276.0],\n",
       "       [Timestamp('2020-05-19 00:00:00'), 10054.0, 288.0],\n",
       "       [Timestamp('2020-05-20 00:00:00'), 10554.0, 303.0],\n",
       "       [Timestamp('2020-05-21 00:00:00'), 11088.0, 316.0],\n",
       "       [Timestamp('2020-05-22 00:00:00'), 11659.0, 398.0],\n",
       "       [Timestamp('2020-05-23 00:00:00'), 12319.0, 416.0],\n",
       "       [Timestamp('2020-05-24 00:00:00'), 12910.0, 473.0],\n",
       "       [Timestamp('2020-05-25 00:00:00'), 13418.0, 523.0],\n",
       "       [Timestamp('2020-05-26 00:00:00'), 14053.0, 556.0],\n",
       "       [Timestamp('2020-05-27 00:00:00'), 14465.0, 606.0],\n",
       "       [Timestamp('2020-05-28 00:00:00'), 15257.0, 650.0],\n",
       "       [Timestamp('2020-05-29 00:00:00'), 16281.0, 708.0],\n",
       "       [Timestamp('2020-05-30 00:00:00'), 17386.0, 761.0],\n",
       "       [Timestamp('2020-05-31 00:00:00'), 18549.0, 761.0],\n",
       "       [Timestamp('2020-01-06 00:00:00'), 19844.0, 874.0],\n",
       "       [Timestamp('2020-02-06 00:00:00'), 20834.0, 905.0],\n",
       "       [Timestamp('2020-03-06 00:00:00'), 22132.0, 984.0],\n",
       "       [Timestamp('2020-04-06 00:00:00'), 23645.0, 1085.0],\n",
       "       [Timestamp('2020-05-06 00:00:00'), 25004.0, 1214.0],\n",
       "       [Timestamp('2020-06-06 00:00:00'), 26334.0, 1271.0],\n",
       "       [Timestamp('2020-07-06 00:00:00'), 27654.0, 1327.0],\n",
       "       [Timestamp('2020-08-06 00:00:00'), 27654.0, 1400.0],\n",
       "       [Timestamp('2020-09-06 00:00:00'), 29943.0, 1837.0],\n",
       "       [Timestamp('2020-10-06 00:00:00'), 31309.0, 1904.0],\n",
       "       [Timestamp('2020-11-06 00:00:00'), 32810.0, 1969.0],\n",
       "       [Timestamp('2020-12-06 00:00:00'), 34687.0, 2035.0],\n",
       "       [Timestamp('2020-06-13 00:00:00'), 36824.0, 2112.0],\n",
       "       [Timestamp('2020-06-14 00:00:00'), 38958.0, 2175.0],\n",
       "       [Timestamp('2020-06-15 00:00:00'), 41182.0, 2233.0],\n",
       "       [Timestamp('2020-06-16 00:00:00'), 42829.0, 2301.0],\n",
       "       [Timestamp('2020-06-17 00:00:00'), 44688.0, 2365.0],\n",
       "       [Timestamp('2020-06-18 00:00:00'), 47102.0, 2429.0],\n",
       "       [Timestamp('2020-06-19 00:00:00'), 49979.0, 2492.0],\n",
       "       [Timestamp('2020-06-20 00:00:00'), 53116.0, 2558.0],\n",
       "       [Timestamp('2020-06-21 00:00:00'), 56746.0, 2623.0],\n",
       "       [Timestamp('2020-06-22 00:00:00'), 59746.0, 2680.0],\n",
       "       [Timestamp('2020-06-23 00:00:00'), 62655.0, 2742.0],\n",
       "       [Timestamp('2020-06-24 00:00:00'), 66602.0, 2803.0],\n",
       "       [Timestamp('2020-06-25 00:00:00'), 70390.0, 2864.0],\n",
       "       [Timestamp('2020-06-26 00:00:00'), 73780.0, 2923.0],\n",
       "       [Timestamp('2020-06-27 00:00:00'), 77240.0, 3004.0],\n",
       "       [Timestamp('2020-06-28 00:00:00'), 80188.0, 3067.0],\n",
       "       [Timestamp('2020-06-29 00:00:00'), 83077.0, 3115.0],\n",
       "       [Timestamp('2020-06-30 00:00:00'), 85161.0, 3165.0],\n",
       "       [Timestamp('2020-01-07 00:00:00'), 87360.0, 3213.0],\n",
       "       [Timestamp('2020-02-07 00:00:00'), 89802.0, 3258.0],\n",
       "       [Timestamp('2020-03-07 00:00:00'), 92175.0, 3300.0],\n",
       "       [Timestamp('2020-04-07 00:00:00'), 94695.0, 3334.0],\n",
       "       [Timestamp('2020-05-07 00:00:00'), 97200.0, 3371.0],\n",
       "       [Timestamp('2020-06-07 00:00:00'), 99444.0, 3411.0],\n",
       "       [Timestamp('2020-07-07 00:00:00'), 100823.0, 3446.0],\n",
       "       [Timestamp('2020-08-07 00:00:00'), 102831.0, nan],\n",
       "       [Timestamp('2020-09-07 00:00:00'), 104864.0, nan],\n",
       "       [Timestamp('2020-10-07 00:00:00'), 107051.0, nan],\n",
       "       [Timestamp('2020-11-07 00:00:00'), 109140.0, nan],\n",
       "       [Timestamp('2020-12-07 00:00:00'), 110921.0, nan],\n",
       "       [Timestamp('2020-07-13 00:00:00'), 112494.0, nan],\n",
       "       [Timestamp('2020-07-14 00:00:00'), 113740.0, nan],\n",
       "       [Timestamp('2020-07-15 00:00:00'), 115346.0, nan]], dtype=object)"
      ]
     },
     "execution_count": 20,
     "metadata": {},
     "output_type": "execute_result"
    }
   ],
   "source": [
    "np.nan_to_num(corr_eight_df)"
   ]
  },
  {
   "cell_type": "code",
   "execution_count": 21,
   "metadata": {},
   "outputs": [],
   "source": [
    "df_droppednan_8 = corr_eight_df.dropna()"
   ]
  },
  {
   "cell_type": "code",
   "execution_count": 22,
   "metadata": {},
   "outputs": [
    {
     "data": {
      "text/html": [
       "<div>\n",
       "<style scoped>\n",
       "    .dataframe tbody tr th:only-of-type {\n",
       "        vertical-align: middle;\n",
       "    }\n",
       "\n",
       "    .dataframe tbody tr th {\n",
       "        vertical-align: top;\n",
       "    }\n",
       "\n",
       "    .dataframe thead th {\n",
       "        text-align: right;\n",
       "    }\n",
       "</style>\n",
       "<table border=\"1\" class=\"dataframe\">\n",
       "  <thead>\n",
       "    <tr style=\"text-align: right;\">\n",
       "      <th></th>\n",
       "      <th>Date</th>\n",
       "      <th>Confirmed</th>\n",
       "      <th>Eight</th>\n",
       "    </tr>\n",
       "  </thead>\n",
       "  <tbody>\n",
       "    <tr>\n",
       "      <th>123</th>\n",
       "      <td>2020-03-07</td>\n",
       "      <td>92175.0</td>\n",
       "      <td>3300.0</td>\n",
       "    </tr>\n",
       "    <tr>\n",
       "      <th>124</th>\n",
       "      <td>2020-04-07</td>\n",
       "      <td>94695.0</td>\n",
       "      <td>3334.0</td>\n",
       "    </tr>\n",
       "    <tr>\n",
       "      <th>125</th>\n",
       "      <td>2020-05-07</td>\n",
       "      <td>97200.0</td>\n",
       "      <td>3371.0</td>\n",
       "    </tr>\n",
       "    <tr>\n",
       "      <th>126</th>\n",
       "      <td>2020-06-07</td>\n",
       "      <td>99444.0</td>\n",
       "      <td>3411.0</td>\n",
       "    </tr>\n",
       "    <tr>\n",
       "      <th>127</th>\n",
       "      <td>2020-07-07</td>\n",
       "      <td>100823.0</td>\n",
       "      <td>3446.0</td>\n",
       "    </tr>\n",
       "  </tbody>\n",
       "</table>\n",
       "</div>"
      ],
      "text/plain": [
       "          Date  Confirmed   Eight\n",
       "123 2020-03-07    92175.0  3300.0\n",
       "124 2020-04-07    94695.0  3334.0\n",
       "125 2020-05-07    97200.0  3371.0\n",
       "126 2020-06-07    99444.0  3411.0\n",
       "127 2020-07-07   100823.0  3446.0"
      ]
     },
     "execution_count": 22,
     "metadata": {},
     "output_type": "execute_result"
    }
   ],
   "source": [
    "df_droppednan_8.tail()"
   ]
  },
  {
   "cell_type": "code",
   "execution_count": 23,
   "metadata": {},
   "outputs": [],
   "source": [
    "pearsonr_x = df_droppednan_8[\"Confirmed\"]"
   ]
  },
  {
   "cell_type": "code",
   "execution_count": 24,
   "metadata": {},
   "outputs": [],
   "source": [
    "pearsonr_y = df_droppednan_8[\"Eight\"]"
   ]
  },
  {
   "cell_type": "code",
   "execution_count": 25,
   "metadata": {},
   "outputs": [
    {
     "data": {
      "text/plain": [
       "(0.979083720120941, 5.341821330828636e-89)"
      ]
     },
     "execution_count": 25,
     "metadata": {},
     "output_type": "execute_result"
    }
   ],
   "source": [
    "scipy.stats.pearsonr(pearsonr_x, pearsonr_y)"
   ]
  },
  {
   "cell_type": "code",
   "execution_count": 26,
   "metadata": {},
   "outputs": [
    {
     "data": {
      "text/plain": [
       "SpearmanrResult(correlation=0.9991354953208536, pvalue=6.617078507466029e-176)"
      ]
     },
     "execution_count": 26,
     "metadata": {},
     "output_type": "execute_result"
    }
   ],
   "source": [
    "scipy.stats.spearmanr(pearsonr_x, pearsonr_y)"
   ]
  },
  {
   "cell_type": "code",
   "execution_count": 27,
   "metadata": {},
   "outputs": [
    {
     "data": {
      "text/plain": [
       "KendalltauResult(correlation=0.9917675639790726, pvalue=7.187953782367176e-61)"
      ]
     },
     "execution_count": 27,
     "metadata": {},
     "output_type": "execute_result"
    }
   ],
   "source": [
    "scipy.stats.kendalltau(pearsonr_x, pearsonr_y) "
   ]
  },
  {
   "cell_type": "code",
   "execution_count": 28,
   "metadata": {},
   "outputs": [
    {
     "data": {
      "text/plain": [
       "0.03949565308147956"
      ]
     },
     "execution_count": 28,
     "metadata": {},
     "output_type": "execute_result"
    }
   ],
   "source": [
    "result = scipy.stats.linregress(pearsonr_x, pearsonr_y)\n",
    "result.slope"
   ]
  },
  {
   "cell_type": "code",
   "execution_count": 29,
   "metadata": {},
   "outputs": [
    {
     "data": {
      "text/plain": [
       "31.620188041350502"
      ]
     },
     "execution_count": 29,
     "metadata": {},
     "output_type": "execute_result"
    }
   ],
   "source": [
    "result.intercept\n"
   ]
  },
  {
   "cell_type": "code",
   "execution_count": 30,
   "metadata": {},
   "outputs": [
    {
     "data": {
      "text/plain": [
       "0.9790837201209409"
      ]
     },
     "execution_count": 30,
     "metadata": {},
     "output_type": "execute_result"
    }
   ],
   "source": [
    "result.rvalue\n"
   ]
  },
  {
   "cell_type": "code",
   "execution_count": 31,
   "metadata": {},
   "outputs": [
    {
     "data": {
      "text/plain": [
       "5.341821330830411e-89"
      ]
     },
     "execution_count": 31,
     "metadata": {},
     "output_type": "execute_result"
    }
   ],
   "source": [
    "result.pvalue\n"
   ]
  },
  {
   "cell_type": "code",
   "execution_count": 32,
   "metadata": {},
   "outputs": [
    {
     "data": {
      "text/plain": [
       "0.0007311702341604438"
      ]
     },
     "execution_count": 32,
     "metadata": {},
     "output_type": "execute_result"
    }
   ],
   "source": [
    "result.stderr"
   ]
  },
  {
   "cell_type": "code",
   "execution_count": 33,
   "metadata": {},
   "outputs": [],
   "source": [
    "import matplotlib.pyplot as plt\n",
    "plt.style.use('ggplot')"
   ]
  },
  {
   "cell_type": "code",
   "execution_count": 34,
   "metadata": {},
   "outputs": [],
   "source": [
    "line = f'Regression line: y={result.intercept:.2f}+{result.slope:.2f}x, r={result.rvalue:.2f}'"
   ]
  },
  {
   "cell_type": "code",
   "execution_count": 35,
   "metadata": {},
   "outputs": [
    {
     "data": {
      "text/plain": [
       "'Regression line: y=31.62+0.04x, r=0.98'"
      ]
     },
     "execution_count": 35,
     "metadata": {},
     "output_type": "execute_result"
    }
   ],
   "source": [
    "line"
   ]
  },
  {
   "cell_type": "code",
   "execution_count": 36,
   "metadata": {},
   "outputs": [
    {
     "data": {
      "image/png": "[encoded data removed]",
      "text/plain": [
       "<Figure size 432x288 with 1 Axes>"
      ]
     },
     "metadata": {},
     "output_type": "display_data"
    }
   ],
   "source": [
    "fig, ax = plt.subplots()\n",
    "ax.plot(pearsonr_x, pearsonr_y,linestyle='dashed', linewidth = 3, marker='o', markerfacecolor='blue', markersize=4, label='Data points')\n",
    "ax.plot(pearsonr_x, result.intercept + result.slope * pearsonr_x, label=line)\n",
    "ax.set_xlabel('x')\n",
    "ax.set_ylabel('y')\n",
    "ax.legend(facecolor='white')\n",
    "plt.show()"
   ]
  },
  {
   "cell_type": "code",
   "execution_count": null,
   "metadata": {},
   "outputs": [],
   "source": []
  }
 ],
 "metadata": {
  "kernelspec": {
   "display_name": "Python 3",
   "language": "python",
   "name": "python3"
  },
  "language_info": {
   "codemirror_mode": {
    "name": "ipython",
    "version": 3
   },
   "file_extension": ".py",
   "mimetype": "text/x-python",
   "name": "python",
   "nbconvert_exporter": "python",
   "pygments_lexer": "ipython3",
   "version": "3.7.6"
  }
 },
 "nbformat": 4,
 "nbformat_minor": 4
}
